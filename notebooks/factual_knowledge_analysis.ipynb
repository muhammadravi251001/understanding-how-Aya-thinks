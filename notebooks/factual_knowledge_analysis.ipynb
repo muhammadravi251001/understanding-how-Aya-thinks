{
 "cells": [
  {
   "cell_type": "markdown",
   "id": "d1a6ab8c",
   "metadata": {},
   "source": [
    "# Does Aya store factual knowledge neutrally? Using Multilingual LAMA dataset\n",
    "\n",
    "**Description**:\n",
    "* Does Aya store factual knowledge neutrally across languages?\n",
    "* Method: Compare factual responses across languages.\n",
    "* Evaluation: Answer consistency, embedding similarity.\n",
    "* Input: Fact-based questions in multiple languages.\n",
    "* Output: Degree of variation in factual accuracy across languages.\n",
    "* Expected Insight: If factual consistency varies by language, Aya may encode knowledge in a language-dependent manner."
   ]
  },
  {
   "cell_type": "markdown",
   "id": "6161fd78",
   "metadata": {},
   "source": [
    "This notebook `.ipynb` aims to do analysis on the `results/mlama_factual_knowledge_results` result from the `experiments/factual_knowledge_experiment` experiment."
   ]
  },
  {
   "cell_type": "code",
   "execution_count": 60,
   "id": "5485f9e3",
   "metadata": {},
   "outputs": [],
   "source": [
    "import pandas as pd\n",
    "import numpy as np\n",
    "import seaborn as sns\n",
    "import matplotlib.pyplot as plt"
   ]
  },
  {
   "cell_type": "code",
   "execution_count": 61,
   "id": "0ea7c146",
   "metadata": {},
   "outputs": [],
   "source": [
    "result_df = pd.read_csv(\"../results/mlama_factual_knowledge_results.csv\")"
   ]
  },
  {
   "cell_type": "code",
   "execution_count": 62,
   "id": "2d1cf84f",
   "metadata": {},
   "outputs": [
    {
     "name": "stdout",
     "output_type": "stream",
     "text": [
      "<class 'pandas.core.frame.DataFrame'>\n",
      "RangeIndex: 10800 entries, 0 to 10799\n",
      "Data columns (total 9 columns):\n",
      " #   Column            Non-Null Count  Dtype \n",
      "---  ------            --------------  ----- \n",
      " 0   language          10400 non-null  object\n",
      " 1   fact_id           10800 non-null  object\n",
      " 2   subject           10800 non-null  object\n",
      " 3   relation          10800 non-null  object\n",
      " 4   question          10800 non-null  object\n",
      " 5   options           10800 non-null  object\n",
      " 6   golden_answer     10800 non-null  object\n",
      " 7   predicted_answer  10800 non-null  object\n",
      " 8   is_correct        10800 non-null  bool  \n",
      "dtypes: bool(1), object(8)\n",
      "memory usage: 685.7+ KB\n"
     ]
    }
   ],
   "source": [
    "result_df.info()"
   ]
  },
  {
   "cell_type": "code",
   "execution_count": 63,
   "id": "ff25ba78",
   "metadata": {},
   "outputs": [
    {
     "name": "stdout",
     "output_type": "stream",
     "text": [
      "Loaded 10800 rows.\n"
     ]
    },
    {
     "data": {
      "text/html": [
       "<div>\n",
       "<style scoped>\n",
       "    .dataframe tbody tr th:only-of-type {\n",
       "        vertical-align: middle;\n",
       "    }\n",
       "\n",
       "    .dataframe tbody tr th {\n",
       "        vertical-align: top;\n",
       "    }\n",
       "\n",
       "    .dataframe thead th {\n",
       "        text-align: right;\n",
       "    }\n",
       "</style>\n",
       "<table border=\"1\" class=\"dataframe\">\n",
       "  <thead>\n",
       "    <tr style=\"text-align: right;\">\n",
       "      <th></th>\n",
       "      <th>language</th>\n",
       "      <th>fact_id</th>\n",
       "      <th>subject</th>\n",
       "      <th>relation</th>\n",
       "      <th>question</th>\n",
       "      <th>options</th>\n",
       "      <th>golden_answer</th>\n",
       "      <th>predicted_answer</th>\n",
       "      <th>is_correct</th>\n",
       "    </tr>\n",
       "  </thead>\n",
       "  <tbody>\n",
       "    <tr>\n",
       "      <th>0</th>\n",
       "      <td>afr</td>\n",
       "      <td>Q191954_P1001_Q142</td>\n",
       "      <td>President van Frankryk</td>\n",
       "      <td>P1001</td>\n",
       "      <td>President van Frankryk is 'n wettige term in _...</td>\n",
       "      <td>['Nigerië', 'Italië', 'Jamaika', 'Frankryk']</td>\n",
       "      <td>Frankryk</td>\n",
       "      <td>Frankryk</td>\n",
       "      <td>True</td>\n",
       "    </tr>\n",
       "    <tr>\n",
       "      <th>1</th>\n",
       "      <td>afr</td>\n",
       "      <td>Q839078_P1001_Q16</td>\n",
       "      <td>Kategorie:Eerste Ministers van Kanada</td>\n",
       "      <td>P1001</td>\n",
       "      <td>Kategorie:Eerste Ministers van Kanada is 'n we...</td>\n",
       "      <td>['Kanada', 'Guyana', 'Indonesië', 'Bolivië']</td>\n",
       "      <td>Kanada</td>\n",
       "      <td>Kanada</td>\n",
       "      <td>True</td>\n",
       "    </tr>\n",
       "    <tr>\n",
       "      <th>2</th>\n",
       "      <td>afr</td>\n",
       "      <td>Q5176750_P1001_Q155</td>\n",
       "      <td>President van Brasilië</td>\n",
       "      <td>P1001</td>\n",
       "      <td>President van Brasilië is 'n wettige term in _...</td>\n",
       "      <td>['Libië', 'Japan', 'Skotland', 'Brasilië']</td>\n",
       "      <td>Brasilië</td>\n",
       "      <td>Brasilië</td>\n",
       "      <td>True</td>\n",
       "    </tr>\n",
       "    <tr>\n",
       "      <th>3</th>\n",
       "      <td>afr</td>\n",
       "      <td>Q319145_P1001_Q408</td>\n",
       "      <td>Eerste Minister van Australië</td>\n",
       "      <td>P1001</td>\n",
       "      <td>Eerste Minister van Australië is 'n wettige te...</td>\n",
       "      <td>['Kuba', 'Viëtnam', 'Australië', 'Turkye']</td>\n",
       "      <td>Australië</td>\n",
       "      <td>Australië</td>\n",
       "      <td>True</td>\n",
       "    </tr>\n",
       "    <tr>\n",
       "      <th>4</th>\n",
       "      <td>afr</td>\n",
       "      <td>Q475689_P1001_Q16</td>\n",
       "      <td>Parlement van Kanada</td>\n",
       "      <td>P1001</td>\n",
       "      <td>Parlement van Kanada is 'n wettige term in _____.</td>\n",
       "      <td>['Bolivië', 'Kanada', 'Nigerië', 'Haïti']</td>\n",
       "      <td>Kanada</td>\n",
       "      <td>Kanada</td>\n",
       "      <td>True</td>\n",
       "    </tr>\n",
       "  </tbody>\n",
       "</table>\n",
       "</div>"
      ],
      "text/plain": [
       "  language              fact_id                                subject  \\\n",
       "0      afr   Q191954_P1001_Q142                 President van Frankryk   \n",
       "1      afr    Q839078_P1001_Q16  Kategorie:Eerste Ministers van Kanada   \n",
       "2      afr  Q5176750_P1001_Q155                 President van Brasilië   \n",
       "3      afr   Q319145_P1001_Q408          Eerste Minister van Australië   \n",
       "4      afr    Q475689_P1001_Q16                   Parlement van Kanada   \n",
       "\n",
       "  relation                                           question  \\\n",
       "0    P1001  President van Frankryk is 'n wettige term in _...   \n",
       "1    P1001  Kategorie:Eerste Ministers van Kanada is 'n we...   \n",
       "2    P1001  President van Brasilië is 'n wettige term in _...   \n",
       "3    P1001  Eerste Minister van Australië is 'n wettige te...   \n",
       "4    P1001  Parlement van Kanada is 'n wettige term in _____.   \n",
       "\n",
       "                                        options golden_answer  \\\n",
       "0  ['Nigerië', 'Italië', 'Jamaika', 'Frankryk']      Frankryk   \n",
       "1  ['Kanada', 'Guyana', 'Indonesië', 'Bolivië']        Kanada   \n",
       "2    ['Libië', 'Japan', 'Skotland', 'Brasilië']      Brasilië   \n",
       "3    ['Kuba', 'Viëtnam', 'Australië', 'Turkye']     Australië   \n",
       "4     ['Bolivië', 'Kanada', 'Nigerië', 'Haïti']        Kanada   \n",
       "\n",
       "  predicted_answer  is_correct  \n",
       "0         Frankryk        True  \n",
       "1           Kanada        True  \n",
       "2         Brasilië        True  \n",
       "3        Australië        True  \n",
       "4           Kanada        True  "
      ]
     },
     "execution_count": 63,
     "metadata": {},
     "output_type": "execute_result"
    }
   ],
   "source": [
    "print(f\"Loaded {len(result_df)} rows.\")\n",
    "result_df.head()"
   ]
  },
  {
   "cell_type": "code",
   "execution_count": 64,
   "id": "707c3944",
   "metadata": {},
   "outputs": [
    {
     "name": "stdout",
     "output_type": "stream",
     "text": [
      "Computed accuracy for 52 languages.\n",
      "   language  is_correct\n",
      "33      msa       0.975\n",
      "20      heb       0.975\n",
      "51      zho       0.960\n",
      "0       afr       0.900\n",
      "13      est       0.895\n",
      "3       bel       0.890\n",
      "8       cym       0.850\n",
      "50      vie       0.790\n",
      "2       aze       0.775\n",
      "30      lat       0.725\n",
      "35      pol       0.725\n",
      "7       ces       0.720\n",
      "37      ron       0.720\n",
      "31      lav       0.720\n",
      "39      slk       0.720\n",
      "36      por       0.715\n",
      "49      urd       0.715\n",
      "47      tur       0.710\n",
      "42      sqi       0.710\n",
      "22      hrv       0.695\n",
      "41      spa       0.680\n",
      "19      glg       0.675\n",
      "26      ita       0.675\n",
      "24      hye       0.660\n",
      "10      deu       0.650\n",
      "25      ind       0.645\n",
      "9       dan       0.645\n",
      "14      eus       0.635\n",
      "44      swe       0.630\n",
      "40      slv       0.625\n",
      "34      nld       0.625\n",
      "12      eng       0.610\n",
      "17      fra       0.595\n",
      "6       cat       0.595\n",
      "32      lit       0.580\n",
      "23      hun       0.580\n",
      "16      fin       0.570\n",
      "18      gle       0.540\n",
      "45      tam       0.535\n",
      "38      rus       0.525\n",
      "27      jpn       0.480\n",
      "21      hin       0.470\n",
      "1       ara       0.460\n",
      "11      ell       0.455\n",
      "48      ukr       0.455\n",
      "29      kor       0.445\n",
      "5       bul       0.415\n",
      "15      fas       0.410\n",
      "43      srp       0.400\n",
      "28      kat       0.385\n",
      "4       ben       0.260\n",
      "46      tha       0.260\n"
     ]
    }
   ],
   "source": [
    "# Group by language and calculate mean accuracy\n",
    "lang_accuracy = result_df.groupby(\"language\")[\"is_correct\"].mean().reset_index()\n",
    "\n",
    "# Sort by accuracy\n",
    "lang_accuracy = lang_accuracy.sort_values(by=\"is_correct\", ascending=False)\n",
    "\n",
    "print(f\"Computed accuracy for {len(lang_accuracy)} languages.\")\n",
    "print(lang_accuracy)"
   ]
  },
  {
   "cell_type": "code",
   "execution_count": 65,
   "id": "adc55a6d",
   "metadata": {},
   "outputs": [
    {
     "name": "stderr",
     "output_type": "stream",
     "text": [
      "C:\\Users\\Muhammad Ravi SH\\AppData\\Local\\Temp\\ipykernel_16688\\3447485003.py:3: FutureWarning: \n",
      "\n",
      "Passing `palette` without assigning `hue` is deprecated and will be removed in v0.14.0. Assign the `x` variable to `hue` and set `legend=False` for the same effect.\n",
      "\n",
      "  sns.barplot(data=lang_accuracy, x=\"language\", y=\"is_correct\", palette=\"viridis\")\n"
     ]
    },
    {
     "data": {
      "image/png": "[encoded data removed]",
      "text/plain": [
       "<Figure size 1200x600 with 1 Axes>"
      ]
     },
     "metadata": {},
     "output_type": "display_data"
    }
   ],
   "source": [
    "# Plotting\n",
    "plt.figure(figsize=(12, 6))\n",
    "sns.barplot(data=lang_accuracy, x=\"language\", y=\"is_correct\", palette=\"viridis\")\n",
    "plt.xticks(rotation=45, ha=\"right\")\n",
    "plt.title(\"Aya Factual Accuracy by Language\")\n",
    "plt.xlabel(\"Language (ISO 639-2 Code)\")\n",
    "plt.ylabel(\"Accuracy\")\n",
    "plt.ylim(0, 1)\n",
    "plt.grid(axis='y')\n",
    "plt.show()"
   ]
  },
  {
   "cell_type": "markdown",
   "id": "b20e1825",
   "metadata": {},
   "source": [
    "Aya performs very accurately in some languages like Malay, Hebrew, and Chinese but struggles significantly in languages like Thai, Bengali, and Georgian.  \n",
    "This indicates **language-dependent variation** in factual accuracy, suggesting that some languages are better \"supported\" or better \"aligned\" than others within the model's knowledge."
   ]
  },
  {
   "cell_type": "code",
   "execution_count": 66,
   "id": "969489ea",
   "metadata": {},
   "outputs": [
    {
     "data": {
      "text/html": [
       "<div>\n",
       "<style scoped>\n",
       "    .dataframe tbody tr th:only-of-type {\n",
       "        vertical-align: middle;\n",
       "    }\n",
       "\n",
       "    .dataframe tbody tr th {\n",
       "        vertical-align: top;\n",
       "    }\n",
       "\n",
       "    .dataframe thead th {\n",
       "        text-align: right;\n",
       "    }\n",
       "</style>\n",
       "<table border=\"1\" class=\"dataframe\">\n",
       "  <thead>\n",
       "    <tr style=\"text-align: right;\">\n",
       "      <th></th>\n",
       "      <th>language</th>\n",
       "      <th>fact_id</th>\n",
       "      <th>subject</th>\n",
       "      <th>relation</th>\n",
       "      <th>question</th>\n",
       "      <th>options</th>\n",
       "      <th>golden_answer</th>\n",
       "      <th>predicted_answer</th>\n",
       "      <th>is_correct</th>\n",
       "    </tr>\n",
       "  </thead>\n",
       "  <tbody>\n",
       "    <tr>\n",
       "      <th>4956</th>\n",
       "      <td>hrv</td>\n",
       "      <td>/m/010cf_place_of_death_/m/01q0l</td>\n",
       "      <td>Abdul Medžid I.</td>\n",
       "      <td>place_of_death</td>\n",
       "      <td>Abdul Medžid I. umro u _____.</td>\n",
       "      <td>['Amsterdam', 'Toronto', 'Carigrad', 'Napulj']</td>\n",
       "      <td>Carigrad</td>\n",
       "      <td>Carigrad</td>\n",
       "      <td>True</td>\n",
       "    </tr>\n",
       "    <tr>\n",
       "      <th>5253</th>\n",
       "      <td>hye</td>\n",
       "      <td>/m/010cf_place_of_death_/m/01q0l</td>\n",
       "      <td>Աբդուլ Մեջիդ</td>\n",
       "      <td>place_of_death</td>\n",
       "      <td>Աբդուլ Մեջիդ մահացավ _____ -ում:</td>\n",
       "      <td>['Յոկոհամա', 'Մադրիդ', 'Կոստանդնուպոլիս', 'Քին...</td>\n",
       "      <td>Կոստանդնուպոլիս</td>\n",
       "      <td>Կոստանդնուպոլիս</td>\n",
       "      <td>True</td>\n",
       "    </tr>\n",
       "    <tr>\n",
       "      <th>5595</th>\n",
       "      <td>ind</td>\n",
       "      <td>/m/010cf_place_of_death_/m/01q0l</td>\n",
       "      <td>Abd-ul-Mejid I</td>\n",
       "      <td>place_of_death</td>\n",
       "      <td>Abd-ul-Mejid I meninggal di _____.</td>\n",
       "      <td>['Hollywood', 'Amsterdam', 'Konstantinopel', '...</td>\n",
       "      <td>Konstantinopel</td>\n",
       "      <td>Konstantinopel</td>\n",
       "      <td>True</td>\n",
       "    </tr>\n",
       "    <tr>\n",
       "      <th>6871</th>\n",
       "      <td>lav</td>\n",
       "      <td>/m/010cf_place_of_death_/m/01q0l</td>\n",
       "      <td>Abdulmedžids I</td>\n",
       "      <td>place_of_death</td>\n",
       "      <td>Abdulmedžids I nomira _____.</td>\n",
       "      <td>['Lietuva', 'Boloņa', 'Manhetena', 'Konstantin...</td>\n",
       "      <td>Konstantinopole</td>\n",
       "      <td>Konstantinopole</td>\n",
       "      <td>True</td>\n",
       "    </tr>\n",
       "    <tr>\n",
       "      <th>8387</th>\n",
       "      <td>slk</td>\n",
       "      <td>/m/010cf_place_of_death_/m/01q0l</td>\n",
       "      <td>Abdülmecid I.</td>\n",
       "      <td>place_of_death</td>\n",
       "      <td>Abdülmecid I. zomrel v _____.</td>\n",
       "      <td>['Konštantínopol', 'Detroit', 'Madrid', 'Lipsko']</td>\n",
       "      <td>Konštantínopol</td>\n",
       "      <td>Konštantínopol</td>\n",
       "      <td>True</td>\n",
       "    </tr>\n",
       "    <tr>\n",
       "      <th>10490</th>\n",
       "      <td>vie</td>\n",
       "      <td>/m/010cf_place_of_death_/m/01q0l</td>\n",
       "      <td>Abdül Mecid I</td>\n",
       "      <td>place_of_death</td>\n",
       "      <td>Abdül Mecid I chết trong _____.</td>\n",
       "      <td>['Toronto', 'Nice', 'Manhattan', 'Constantinop...</td>\n",
       "      <td>Constantinopolis</td>\n",
       "      <td>Constantinopolis</td>\n",
       "      <td>True</td>\n",
       "    </tr>\n",
       "  </tbody>\n",
       "</table>\n",
       "</div>"
      ],
      "text/plain": [
       "      language                           fact_id          subject  \\\n",
       "4956       hrv  /m/010cf_place_of_death_/m/01q0l  Abdul Medžid I.   \n",
       "5253       hye  /m/010cf_place_of_death_/m/01q0l     Աբդուլ Մեջիդ   \n",
       "5595       ind  /m/010cf_place_of_death_/m/01q0l   Abd-ul-Mejid I   \n",
       "6871       lav  /m/010cf_place_of_death_/m/01q0l   Abdulmedžids I   \n",
       "8387       slk  /m/010cf_place_of_death_/m/01q0l    Abdülmecid I.   \n",
       "10490      vie  /m/010cf_place_of_death_/m/01q0l    Abdül Mecid I   \n",
       "\n",
       "             relation                            question  \\\n",
       "4956   place_of_death       Abdul Medžid I. umro u _____.   \n",
       "5253   place_of_death    Աբդուլ Մեջիդ մահացավ _____ -ում:   \n",
       "5595   place_of_death  Abd-ul-Mejid I meninggal di _____.   \n",
       "6871   place_of_death        Abdulmedžids I nomira _____.   \n",
       "8387   place_of_death       Abdülmecid I. zomrel v _____.   \n",
       "10490  place_of_death     Abdül Mecid I chết trong _____.   \n",
       "\n",
       "                                                 options     golden_answer  \\\n",
       "4956      ['Amsterdam', 'Toronto', 'Carigrad', 'Napulj']          Carigrad   \n",
       "5253   ['Յոկոհամա', 'Մադրիդ', 'Կոստանդնուպոլիս', 'Քին...   Կոստանդնուպոլիս   \n",
       "5595   ['Hollywood', 'Amsterdam', 'Konstantinopel', '...    Konstantinopel   \n",
       "6871   ['Lietuva', 'Boloņa', 'Manhetena', 'Konstantin...   Konstantinopole   \n",
       "8387   ['Konštantínopol', 'Detroit', 'Madrid', 'Lipsko']    Konštantínopol   \n",
       "10490  ['Toronto', 'Nice', 'Manhattan', 'Constantinop...  Constantinopolis   \n",
       "\n",
       "       predicted_answer  is_correct  \n",
       "4956           Carigrad        True  \n",
       "5253    Կոստանդնուպոլիս        True  \n",
       "5595     Konstantinopel        True  \n",
       "6871    Konstantinopole        True  \n",
       "8387     Konštantínopol        True  \n",
       "10490  Constantinopolis        True  "
      ]
     },
     "execution_count": 66,
     "metadata": {},
     "output_type": "execute_result"
    }
   ],
   "source": [
    "## see only the fact_id \"/m/010cf_place_of_death_/m/01q0l\"\n",
    "fact_id_dummy = result_df[result_df[\"fact_id\"] == \"/m/010cf_place_of_death_/m/01q0l\"]\n",
    "fact_id_dummy"
   ]
  },
  {
   "cell_type": "code",
   "execution_count": 67,
   "id": "4115881d",
   "metadata": {},
   "outputs": [
    {
     "name": "stdout",
     "output_type": "stream",
     "text": [
      "Computed consistency for 1329 facts.\n"
     ]
    },
    {
     "data": {
      "text/html": [
       "<div>\n",
       "<style scoped>\n",
       "    .dataframe tbody tr th:only-of-type {\n",
       "        vertical-align: middle;\n",
       "    }\n",
       "\n",
       "    .dataframe tbody tr th {\n",
       "        vertical-align: top;\n",
       "    }\n",
       "\n",
       "    .dataframe thead th {\n",
       "        text-align: right;\n",
       "    }\n",
       "</style>\n",
       "<table border=\"1\" class=\"dataframe\">\n",
       "  <thead>\n",
       "    <tr style=\"text-align: right;\">\n",
       "      <th></th>\n",
       "      <th>fact_id</th>\n",
       "      <th>consistency</th>\n",
       "      <th>accuracy</th>\n",
       "      <th>n_languages</th>\n",
       "    </tr>\n",
       "  </thead>\n",
       "  <tbody>\n",
       "    <tr>\n",
       "      <th>0</th>\n",
       "      <td>/m/010cf_place_of_death_/m/01q0l</td>\n",
       "      <td>0.166667</td>\n",
       "      <td>1.000000</td>\n",
       "      <td>6</td>\n",
       "    </tr>\n",
       "    <tr>\n",
       "      <th>1</th>\n",
       "      <td>/m/0127f2_place_of_birth_/m/06c62</td>\n",
       "      <td>0.500000</td>\n",
       "      <td>0.916667</td>\n",
       "      <td>12</td>\n",
       "    </tr>\n",
       "    <tr>\n",
       "      <th>2</th>\n",
       "      <td>/m/019z_6_place_of_death_/m/0cl8c</td>\n",
       "      <td>0.500000</td>\n",
       "      <td>0.500000</td>\n",
       "      <td>2</td>\n",
       "    </tr>\n",
       "    <tr>\n",
       "      <th>3</th>\n",
       "      <td>/m/01cv72_place_of_birth_/m/09bkv</td>\n",
       "      <td>0.500000</td>\n",
       "      <td>0.500000</td>\n",
       "      <td>2</td>\n",
       "    </tr>\n",
       "    <tr>\n",
       "      <th>4</th>\n",
       "      <td>/m/01f5sj_place_of_birth_/m/04jpl</td>\n",
       "      <td>0.500000</td>\n",
       "      <td>0.000000</td>\n",
       "      <td>2</td>\n",
       "    </tr>\n",
       "  </tbody>\n",
       "</table>\n",
       "</div>"
      ],
      "text/plain": [
       "                             fact_id  consistency  accuracy  n_languages\n",
       "0   /m/010cf_place_of_death_/m/01q0l     0.166667  1.000000            6\n",
       "1  /m/0127f2_place_of_birth_/m/06c62     0.500000  0.916667           12\n",
       "2  /m/019z_6_place_of_death_/m/0cl8c     0.500000  0.500000            2\n",
       "3  /m/01cv72_place_of_birth_/m/09bkv     0.500000  0.500000            2\n",
       "4  /m/01f5sj_place_of_birth_/m/04jpl     0.500000  0.000000            2"
      ]
     },
     "execution_count": 67,
     "metadata": {},
     "output_type": "execute_result"
    }
   ],
   "source": [
    "# Group by fact_id\n",
    "fact_groups = result_df.groupby(\"fact_id\")\n",
    "\n",
    "consistency_list = []\n",
    "\n",
    "for fact_id, group in fact_groups:\n",
    "    answers = group[\"predicted_answer\"]\n",
    "    correct = (group[\"predicted_answer\"] == group[\"golden_answer\"]).sum()\n",
    "    accuracy = correct / len(group)\n",
    "    if len(answers) > 1:\n",
    "        # Count the most common answer\n",
    "        most_common_answer = answers.mode()[0]\n",
    "        consistency = (answers == most_common_answer).sum() / len(answers)\n",
    "        consistency_list.append({\n",
    "            \"fact_id\": fact_id,\n",
    "            \"consistency\": consistency,\n",
    "            \"accuracy\": accuracy,\n",
    "            \"n_languages\": len(answers)\n",
    "        })\n",
    "\n",
    "consistency_df = pd.DataFrame(consistency_list)\n",
    "print(f\"Computed consistency for {len(consistency_df)} facts.\")\n",
    "consistency_df.head()"
   ]
  },
  {
   "cell_type": "code",
   "execution_count": 68,
   "id": "3585fcac",
   "metadata": {},
   "outputs": [
    {
     "data": {
      "image/png": "[encoded data removed]",
      "text/plain": [
       "<Figure size 1000x500 with 1 Axes>"
      ]
     },
     "metadata": {},
     "output_type": "display_data"
    }
   ],
   "source": [
    "plt.figure(figsize=(10, 5))\n",
    "sns.histplot(consistency_df[\"consistency\"], bins=20, kde=True, color=\"skyblue\")\n",
    "plt.title(\"Distribution of Answer Consistency Across Languages\")\n",
    "plt.xlabel(\"Consistency Score\")\n",
    "plt.ylabel(\"Number of Facts\")\n",
    "plt.grid(axis='y')\n",
    "plt.show()"
   ]
  },
  {
   "cell_type": "code",
   "execution_count": 69,
   "id": "217e151f",
   "metadata": {},
   "outputs": [
    {
     "name": "stdout",
     "output_type": "stream",
     "text": [
      "Summary of Consistency and Accuracy Metrics:\n",
      "Average Consistency: 0.345\n",
      "Median Consistency: 0.333\n",
      "Percentage of Perfectly Consistent Facts: 3.160\n",
      "Average Accuracy: 0.667\n",
      "Median Accuracy: 0.750\n",
      "Percentage of Fully Correct Facts: 30.399\n"
     ]
    }
   ],
   "source": [
    "# Summary Statistics (Consistency + Accuracy)\n",
    "consistency_summary = {\n",
    "    \"Average Consistency\": np.mean(consistency_df[\"consistency\"]),\n",
    "    \"Median Consistency\": np.median(consistency_df[\"consistency\"]),\n",
    "    \"Percentage of Perfectly Consistent Facts\": (consistency_df[\"consistency\"] == 1.0).mean() * 100,\n",
    "    \"Average Accuracy\": np.mean(consistency_df[\"accuracy\"]),\n",
    "    \"Median Accuracy\": np.median(consistency_df[\"accuracy\"]),\n",
    "    \"Percentage of Fully Correct Facts\": (consistency_df[\"accuracy\"] == 1.0).mean() * 100\n",
    "}\n",
    "\n",
    "print(\"Summary of Consistency and Accuracy Metrics:\")\n",
    "for key, value in consistency_summary.items():\n",
    "    print(f\"{key}: {value:.3f}\")"
   ]
  },
  {
   "cell_type": "markdown",
   "id": "bed255a8",
   "metadata": {},
   "source": [
    "The average and median consistency scores being around **34%** indicate that for many facts, **Aya provides different answers across languages most of the time**. Only a small fraction (\\~3.2%) of facts are perfectly consistent across all evaluated languages.\n",
    "\n",
    "However, the relatively high **average accuracy (67%)** and **median accuracy (75%)** suggest that **Aya often answers correctly in individual languages**, even if the answers are not always the same across them. This highlights that **Aya retrieves factual knowledge in a noticeably language-dependent manner**, with accuracy maintained but consistency lacking."
   ]
  },
  {
   "cell_type": "code",
   "execution_count": 70,
   "id": "46800f09",
   "metadata": {},
   "outputs": [
    {
     "name": "stdout",
     "output_type": "stream",
     "text": [
      "Rate of UNKNOWN answers: 0.26%\n"
     ]
    }
   ],
   "source": [
    "unknown_rate = (result_df[\"predicted_answer\"] == \"UNKNOWN\").mean()\n",
    "print(f\"Rate of UNKNOWN answers: {unknown_rate:.2%}\")"
   ]
  },
  {
   "cell_type": "markdown",
   "id": "4c8cdd6a",
   "metadata": {},
   "source": [
    "A very small proportion (<0.3%) of answers were `\"UNKNOWN\"`, which means the model almost always attempted an answer and did not skip or default excessively. Thus, variations in responses are due to real **answer differences**, not model refusal."
   ]
  },
  {
   "cell_type": "code",
   "execution_count": null,
   "id": "fda077ef",
   "metadata": {},
   "outputs": [
    {
     "name": "stdout",
     "output_type": "stream",
     "text": [
      "Loaded 10800 rows.\n",
      "Computing embeddings...\n"
     ]
    },
    {
     "name": "stderr",
     "output_type": "stream",
     "text": [
      "100%|██████████| 108/108 [01:56<00:00,  1.08s/it]\n"
     ]
    },
    {
     "name": "stdout",
     "output_type": "stream",
     "text": [
      "Embedding computation completed.\n"
     ]
    },
    {
     "name": "stderr",
     "output_type": "stream",
     "text": [
      "Computing similarity per fact: 100%|██████████| 2151/2151 [00:04<00:00, 519.34it/s] "
     ]
    },
    {
     "name": "stdout",
     "output_type": "stream",
     "text": [
      "Average Embedding Similarity: 0.674\n",
      "Median Embedding Similarity: 0.664\n",
      "Percentage of facts with similarity > 0.8: 19.56%\n"
     ]
    },
    {
     "name": "stderr",
     "output_type": "stream",
     "text": [
      "\n"
     ]
    }
   ],
   "source": [
    "# Import libraries\n",
    "import pandas as pd\n",
    "import numpy as np\n",
    "from tqdm import tqdm\n",
    "from scipy.spatial.distance import cosine\n",
    "import cohere\n",
    "\n",
    "# Initialize Cohere client\n",
    "co = cohere.Client(\"YOUR_COHERE_API_KEY\")  # Replace with your actual API key\n",
    "\n",
    "# Load the previous evaluation results\n",
    "result_df = pd.read_csv(\"../results/mlama_factual_knowledge_results.csv\")\n",
    "\n",
    "# Display a sample of the data\n",
    "print(f\"Loaded {len(result_df)} rows.\")\n",
    "result_df.head()\n",
    "\n",
    "# Compute embeddings for each predicted answer using Cohere embed-multilingual-v3.0 model\n",
    "print(\"Computing embeddings...\")\n",
    "\n",
    "batch_size = 100  # Cohere API handles batch requests efficiently\n",
    "embeddings = []\n",
    "\n",
    "for i in tqdm(range(0, len(result_df), batch_size)):\n",
    "    batch_texts = result_df['predicted_answer'].iloc[i:i+batch_size].astype(str).tolist()\n",
    "    response = co.embed(\n",
    "        texts=batch_texts,\n",
    "        model=\"embed-multilingual-v3.0\",\n",
    "        input_type=\"classification\"  # appropriate for short answers\n",
    "    )\n",
    "    embeddings.extend(response.embeddings)\n",
    "\n",
    "# Add embeddings to the dataframe\n",
    "result_df['embedding'] = embeddings\n",
    "\n",
    "print(\"Embedding computation completed.\")\n",
    "\n",
    "# Group by fact_id\n",
    "fact_groups = result_df.groupby(\"fact_id\")\n",
    "\n",
    "# List to store similarity results\n",
    "fact_similarity_records = []\n",
    "\n",
    "for fact_id, group in tqdm(fact_groups, desc=\"Computing similarity per fact\"):\n",
    "    embeddings = group[\"embedding\"].tolist()\n",
    "    n = len(embeddings)\n",
    "    \n",
    "    # Skip if there is only one language\n",
    "    if n <= 1:\n",
    "        continue\n",
    "    \n",
    "    # Calculate pairwise cosine similarities\n",
    "    similarities = []\n",
    "    for i in range(n):\n",
    "        for j in range(i + 1, n):\n",
    "            sim = 1 - cosine(embeddings[i], embeddings[j])\n",
    "            similarities.append(sim)\n",
    "    \n",
    "    # Compute average similarity for the fact\n",
    "    avg_similarity = np.mean(similarities) if similarities else None\n",
    "    \n",
    "    fact_similarity_records.append({\n",
    "        \"fact_id\": fact_id,\n",
    "        \"n_languages\": n,\n",
    "        \"avg_similarity\": avg_similarity\n",
    "    })\n",
    "\n",
    "# Convert the similarity records into a DataFrame\n",
    "similarity_df = pd.DataFrame(fact_similarity_records)\n",
    "similarity_df.head()\n",
    "\n",
    "# Summary statistics\n",
    "avg_sim = similarity_df['avg_similarity'].mean()\n",
    "median_sim = similarity_df['avg_similarity'].median()\n",
    "high_sim_rate = (similarity_df['avg_similarity'] > 0.8).mean()\n",
    "\n",
    "print(f\"Average Embedding Similarity: {avg_sim:.3f}\")\n",
    "print(f\"Median Embedding Similarity: {median_sim:.3f}\")\n",
    "print(f\"Percentage of facts with similarity > 0.8: {high_sim_rate:.2%}\")"
   ]
  },
  {
   "cell_type": "code",
   "execution_count": 72,
   "id": "80795a4d",
   "metadata": {},
   "outputs": [
    {
     "data": {
      "image/png": "[encoded data removed]",
      "text/plain": [
       "<Figure size 1000x600 with 1 Axes>"
      ]
     },
     "metadata": {},
     "output_type": "display_data"
    }
   ],
   "source": [
    "# Set style\n",
    "sns.set(style=\"whitegrid\")\n",
    "\n",
    "# Plot histogram of average embedding similarities\n",
    "plt.figure(figsize=(10,6))\n",
    "sns.histplot(similarity_df['avg_similarity'], bins=30, kde=True, color='skyblue')\n",
    "plt.title('Distribution of Average Embedding Similarity per Fact', fontsize=16)\n",
    "plt.xlabel('Average Embedding Similarity', fontsize=14)\n",
    "plt.ylabel('Number of Facts', fontsize=14)\n",
    "plt.axvline(x=0.8, color='red', linestyle='--', label='Threshold 0.8')\n",
    "plt.legend()\n",
    "plt.show()"
   ]
  },
  {
   "cell_type": "markdown",
   "id": "5665e905",
   "metadata": {},
   "source": [
    "While Aya often provides semantically similar factual answers across languages, the average embedding similarity (\\~0.67) indicates that **semantic consistency is present but not strong**.\n",
    "Only around **20% of facts reach high semantic similarity** (>0.8), suggesting that:\n",
    "\n",
    "* There is **moderate but imperfect alignment in factual meaning** across languages.\n",
    "* Some factual responses may reflect **language-specific framing or variation**.\n",
    "\n",
    "Combined with the lower answer consistency, this implies that **Aya encodes factual knowledge in a way that is not fully language-neutral**, with meaningful cross-lingual variation present in both form and meaning."
   ]
  },
  {
   "cell_type": "markdown",
   "id": "f9fd93b1",
   "metadata": {},
   "source": [
    "# ✨ **Summary Conclusion**\n",
    "\n",
    "* Aya exhibits **strong factual capabilities** in some languages, but its performance is **weaker in others**, with **lower accuracy** and **higher variability in answers** across languages.\n",
    "* Factual answers are **not fully neutral across languages**, with significant **variation in consistency** and **accuracy** observed between languages.\n",
    "* The language of the question **influences Aya’s factual responses**, suggesting that some knowledge is **partially encoded in a language-dependent manner**.\n",
    "* Cross-lingual **semantic similarity** of answers is **moderate**, with an average embedding similarity of **0.674**.\n",
    "* Only **19.56%** of facts exhibit **high semantic similarity** (>0.8), indicating that **semantic drift** is **relatively common** across languages.\n",
    "* **Factual consistency** across languages is relatively **low**, with only **3.16%** of facts being perfectly consistent across languages.\n",
    "* **Accuracy** of factual answers across languages shows variation, with an overall **average accuracy** of **66.7%**, indicating **inconsistent correctness** across languages."
   ]
  },
  {
   "cell_type": "markdown",
   "id": "0a83f0e8",
   "metadata": {},
   "source": [
    "### 🎯 Main Question Answer:\n",
    "\n",
    "**Does Aya store factual knowledge neutrally?**\n",
    "\n",
    "❌ **No, Aya does not store factual knowledge in a fully language-neutral way.**\n",
    "\n",
    "Factual consistency **varies significantly** across languages, indicating that Aya’s internal knowledge representation is **partially influenced by the language** of the input.\n",
    "\n",
    "Only about **3.16%** of facts were perfectly consistent across languages (i.e., same answer in all), and the overall consistency rate is just **34.5%**.\n",
    "\n",
    "**Accuracy** across languages is also variable, with an **average accuracy of 66.7%** and a **median of 75%**, suggesting that factual answers may not always be fully correct or consistent across languages.\n",
    "\n",
    "Additionally, semantic similarity between answers (embedding-based) averages **0.674**, with only about **19.56%** of facts achieving high similarity (>0.8). This shows that **perfect neutrality is not achieved** even at the semantic level."
   ]
  }
 ],
 "metadata": {
  "kernelspec": {
   "display_name": ".venv",
   "language": "python",
   "name": "python3"
  },
  "language_info": {
   "codemirror_mode": {
    "name": "ipython",
    "version": 3
   },
   "file_extension": ".py",
   "mimetype": "text/x-python",
   "name": "python",
   "nbconvert_exporter": "python",
   "pygments_lexer": "ipython3",
   "version": "3.10.0"
  }
 },
 "nbformat": 4,
 "nbformat_minor": 5
}
