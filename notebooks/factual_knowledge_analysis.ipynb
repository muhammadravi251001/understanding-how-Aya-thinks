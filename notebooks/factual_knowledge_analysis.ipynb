{
 "cells": [
  {
   "cell_type": "markdown",
   "id": "d1a6ab8c",
   "metadata": {},
   "source": [
    "# Does Aya store factual knowledge neutrally? Using Multilingual LAMA dataset\n",
    "\n",
    "**Description**:\n",
    "* Does Aya store factual knowledge neutrally across languages?\n",
    "* Method: Compare factual responses across languages.\n",
    "* Evaluation: Answer consistency, embedding similarity.\n",
    "* Input: Fact-based questions in multiple languages.\n",
    "* Output: Degree of variation in factual accuracy across languages.\n",
    "* Expected Insight: If factual consistency varies by language, Aya may encode knowledge in a language-dependent manner."
   ]
  },
  {
   "cell_type": "markdown",
   "id": "6161fd78",
   "metadata": {},
   "source": [
    "This notebook `.ipynb` aims to do analysis on the `results/mlama_factual_knowledge_results` result from the `experiments/factual_knowledge_experiment` experiment."
   ]
  },
  {
   "cell_type": "code",
   "execution_count": 65,
   "id": "5485f9e3",
   "metadata": {},
   "outputs": [],
   "source": [
    "import pandas as pd\n",
    "import numpy as np\n",
    "import seaborn as sns\n",
    "import matplotlib.pyplot as plt"
   ]
  },
  {
   "cell_type": "code",
   "execution_count": 67,
   "id": "0ea7c146",
   "metadata": {},
   "outputs": [],
   "source": [
    "result_df = pd.read_csv(\"../results/mlama_factual_knowledge_results.csv\")"
   ]
  },
  {
   "cell_type": "code",
   "execution_count": 50,
   "id": "2d1cf84f",
   "metadata": {},
   "outputs": [
    {
     "name": "stdout",
     "output_type": "stream",
     "text": [
      "<class 'pandas.core.frame.DataFrame'>\n",
      "RangeIndex: 10800 entries, 0 to 10799\n",
      "Data columns (total 8 columns):\n",
      " #   Column            Non-Null Count  Dtype \n",
      "---  ------            --------------  ----- \n",
      " 0   language          10400 non-null  object\n",
      " 1   subject           10800 non-null  object\n",
      " 2   relation          10800 non-null  object\n",
      " 3   question          10800 non-null  object\n",
      " 4   options           10800 non-null  object\n",
      " 5   golden_answer     10800 non-null  object\n",
      " 6   predicted_answer  10800 non-null  object\n",
      " 7   is_correct        10800 non-null  bool  \n",
      "dtypes: bool(1), object(7)\n",
      "memory usage: 601.3+ KB\n"
     ]
    }
   ],
   "source": [
    "result_df.info()"
   ]
  },
  {
   "cell_type": "code",
   "execution_count": 55,
   "id": "ff25ba78",
   "metadata": {},
   "outputs": [
    {
     "name": "stdout",
     "output_type": "stream",
     "text": [
      "Loaded 10800 rows.\n"
     ]
    },
    {
     "data": {
      "text/html": [
       "<div>\n",
       "<style scoped>\n",
       "    .dataframe tbody tr th:only-of-type {\n",
       "        vertical-align: middle;\n",
       "    }\n",
       "\n",
       "    .dataframe tbody tr th {\n",
       "        vertical-align: top;\n",
       "    }\n",
       "\n",
       "    .dataframe thead th {\n",
       "        text-align: right;\n",
       "    }\n",
       "</style>\n",
       "<table border=\"1\" class=\"dataframe\">\n",
       "  <thead>\n",
       "    <tr style=\"text-align: right;\">\n",
       "      <th></th>\n",
       "      <th>language</th>\n",
       "      <th>subject</th>\n",
       "      <th>relation</th>\n",
       "      <th>question</th>\n",
       "      <th>options</th>\n",
       "      <th>golden_answer</th>\n",
       "      <th>predicted_answer</th>\n",
       "      <th>is_correct</th>\n",
       "    </tr>\n",
       "  </thead>\n",
       "  <tbody>\n",
       "    <tr>\n",
       "      <th>0</th>\n",
       "      <td>afr</td>\n",
       "      <td>President van Frankryk</td>\n",
       "      <td>P1001</td>\n",
       "      <td>President van Frankryk is 'n wettige term in _...</td>\n",
       "      <td>['Nigerië', 'Italië', 'Jamaika', 'Frankryk']</td>\n",
       "      <td>Frankryk</td>\n",
       "      <td>Frankryk</td>\n",
       "      <td>True</td>\n",
       "    </tr>\n",
       "    <tr>\n",
       "      <th>1</th>\n",
       "      <td>afr</td>\n",
       "      <td>Kategorie:Eerste Ministers van Kanada</td>\n",
       "      <td>P1001</td>\n",
       "      <td>Kategorie:Eerste Ministers van Kanada is 'n we...</td>\n",
       "      <td>['Kanada', 'Guyana', 'Indonesië', 'Bolivië']</td>\n",
       "      <td>Kanada</td>\n",
       "      <td>Kanada</td>\n",
       "      <td>True</td>\n",
       "    </tr>\n",
       "    <tr>\n",
       "      <th>2</th>\n",
       "      <td>afr</td>\n",
       "      <td>President van Brasilië</td>\n",
       "      <td>P1001</td>\n",
       "      <td>President van Brasilië is 'n wettige term in _...</td>\n",
       "      <td>['Libië', 'Japan', 'Skotland', 'Brasilië']</td>\n",
       "      <td>Brasilië</td>\n",
       "      <td>Brasilië</td>\n",
       "      <td>True</td>\n",
       "    </tr>\n",
       "    <tr>\n",
       "      <th>3</th>\n",
       "      <td>afr</td>\n",
       "      <td>Eerste Minister van Australië</td>\n",
       "      <td>P1001</td>\n",
       "      <td>Eerste Minister van Australië is 'n wettige te...</td>\n",
       "      <td>['Kuba', 'Viëtnam', 'Australië', 'Turkye']</td>\n",
       "      <td>Australië</td>\n",
       "      <td>Australië</td>\n",
       "      <td>True</td>\n",
       "    </tr>\n",
       "    <tr>\n",
       "      <th>4</th>\n",
       "      <td>afr</td>\n",
       "      <td>Parlement van Kanada</td>\n",
       "      <td>P1001</td>\n",
       "      <td>Parlement van Kanada is 'n wettige term in _____.</td>\n",
       "      <td>['Bolivië', 'Kanada', 'Nigerië', 'Haïti']</td>\n",
       "      <td>Kanada</td>\n",
       "      <td>Kanada</td>\n",
       "      <td>True</td>\n",
       "    </tr>\n",
       "  </tbody>\n",
       "</table>\n",
       "</div>"
      ],
      "text/plain": [
       "  language                                subject relation  \\\n",
       "0      afr                 President van Frankryk    P1001   \n",
       "1      afr  Kategorie:Eerste Ministers van Kanada    P1001   \n",
       "2      afr                 President van Brasilië    P1001   \n",
       "3      afr          Eerste Minister van Australië    P1001   \n",
       "4      afr                   Parlement van Kanada    P1001   \n",
       "\n",
       "                                            question  \\\n",
       "0  President van Frankryk is 'n wettige term in _...   \n",
       "1  Kategorie:Eerste Ministers van Kanada is 'n we...   \n",
       "2  President van Brasilië is 'n wettige term in _...   \n",
       "3  Eerste Minister van Australië is 'n wettige te...   \n",
       "4  Parlement van Kanada is 'n wettige term in _____.   \n",
       "\n",
       "                                        options golden_answer  \\\n",
       "0  ['Nigerië', 'Italië', 'Jamaika', 'Frankryk']      Frankryk   \n",
       "1  ['Kanada', 'Guyana', 'Indonesië', 'Bolivië']        Kanada   \n",
       "2    ['Libië', 'Japan', 'Skotland', 'Brasilië']      Brasilië   \n",
       "3    ['Kuba', 'Viëtnam', 'Australië', 'Turkye']     Australië   \n",
       "4     ['Bolivië', 'Kanada', 'Nigerië', 'Haïti']        Kanada   \n",
       "\n",
       "  predicted_answer  is_correct  \n",
       "0         Frankryk        True  \n",
       "1           Kanada        True  \n",
       "2         Brasilië        True  \n",
       "3        Australië        True  \n",
       "4           Kanada        True  "
      ]
     },
     "execution_count": 55,
     "metadata": {},
     "output_type": "execute_result"
    }
   ],
   "source": [
    "print(f\"Loaded {len(result_df)} rows.\")\n",
    "result_df.head()"
   ]
  },
  {
   "cell_type": "markdown",
   "id": "c8cf95f5",
   "metadata": {},
   "source": [
    "The evaluation set is substantial, covering a wide range of facts and languages, giving good coverage for analyzing Aya's multilingual factual behavior."
   ]
  },
  {
   "cell_type": "code",
   "execution_count": 56,
   "id": "707c3944",
   "metadata": {},
   "outputs": [
    {
     "name": "stdout",
     "output_type": "stream",
     "text": [
      "Computed accuracy for 52 languages.\n",
      "   language  is_correct\n",
      "33      msa       0.975\n",
      "20      heb       0.975\n",
      "51      zho       0.960\n",
      "0       afr       0.900\n",
      "13      est       0.895\n",
      "3       bel       0.895\n",
      "8       cym       0.855\n",
      "50      vie       0.790\n",
      "2       aze       0.775\n",
      "7       ces       0.725\n",
      "35      pol       0.725\n",
      "37      ron       0.720\n",
      "30      lat       0.720\n",
      "39      slk       0.720\n",
      "36      por       0.715\n",
      "31      lav       0.715\n",
      "49      urd       0.715\n",
      "47      tur       0.710\n",
      "42      sqi       0.705\n",
      "22      hrv       0.695\n",
      "41      spa       0.680\n",
      "19      glg       0.675\n",
      "26      ita       0.670\n",
      "10      deu       0.650\n",
      "24      hye       0.645\n",
      "25      ind       0.645\n",
      "9       dan       0.645\n",
      "14      eus       0.635\n",
      "44      swe       0.630\n",
      "34      nld       0.625\n",
      "40      slv       0.620\n",
      "12      eng       0.615\n",
      "17      fra       0.600\n",
      "6       cat       0.600\n",
      "23      hun       0.585\n",
      "32      lit       0.575\n",
      "16      fin       0.565\n",
      "45      tam       0.545\n",
      "18      gle       0.540\n",
      "38      rus       0.525\n",
      "27      jpn       0.480\n",
      "21      hin       0.475\n",
      "1       ara       0.460\n",
      "48      ukr       0.460\n",
      "11      ell       0.455\n",
      "29      kor       0.450\n",
      "5       bul       0.410\n",
      "15      fas       0.410\n",
      "43      srp       0.400\n",
      "28      kat       0.385\n",
      "4       ben       0.260\n",
      "46      tha       0.250\n"
     ]
    }
   ],
   "source": [
    "# Group by language and calculate mean accuracy\n",
    "lang_accuracy = result_df.groupby(\"language\")[\"is_correct\"].mean().reset_index()\n",
    "\n",
    "# Sort by accuracy\n",
    "lang_accuracy = lang_accuracy.sort_values(by=\"is_correct\", ascending=False)\n",
    "\n",
    "print(f\"Computed accuracy for {len(lang_accuracy)} languages.\")\n",
    "print(lang_accuracy)"
   ]
  },
  {
   "cell_type": "code",
   "execution_count": 58,
   "id": "adc55a6d",
   "metadata": {},
   "outputs": [
    {
     "name": "stderr",
     "output_type": "stream",
     "text": [
      "C:\\Users\\Muhammad Ravi SH\\AppData\\Local\\Temp\\ipykernel_12380\\3447485003.py:3: FutureWarning: \n",
      "\n",
      "Passing `palette` without assigning `hue` is deprecated and will be removed in v0.14.0. Assign the `x` variable to `hue` and set `legend=False` for the same effect.\n",
      "\n",
      "  sns.barplot(data=lang_accuracy, x=\"language\", y=\"is_correct\", palette=\"viridis\")\n"
     ]
    },
    {
     "data": {
      "image/png": "[encoded data removed]",
      "text/plain": [
       "<Figure size 1200x600 with 1 Axes>"
      ]
     },
     "metadata": {},
     "output_type": "display_data"
    }
   ],
   "source": [
    "# Plotting\n",
    "plt.figure(figsize=(12, 6))\n",
    "sns.barplot(data=lang_accuracy, x=\"language\", y=\"is_correct\", palette=\"viridis\")\n",
    "plt.xticks(rotation=45, ha=\"right\")\n",
    "plt.title(\"Aya Factual Accuracy by Language\")\n",
    "plt.xlabel(\"Language (ISO 639-2 Code)\")\n",
    "plt.ylabel(\"Accuracy\")\n",
    "plt.ylim(0, 1)\n",
    "plt.grid(axis='y')\n",
    "plt.show()"
   ]
  },
  {
   "cell_type": "markdown",
   "id": "b20e1825",
   "metadata": {},
   "source": [
    "Aya performs very accurately in some languages like Malay, Hebrew, and Chinese but struggles significantly in languages like Thai, Bengali, and Georgian.  \n",
    "This indicates **language-dependent variation** in factual accuracy, suggesting that some languages are better \"supported\" or better \"aligned\" than others within the model's knowledge."
   ]
  },
  {
   "cell_type": "code",
   "execution_count": 60,
   "id": "96dab004",
   "metadata": {},
   "outputs": [
    {
     "name": "stdout",
     "output_type": "stream",
     "text": [
      "Example fact_id added:\n"
     ]
    },
    {
     "data": {
      "text/html": [
       "<div>\n",
       "<style scoped>\n",
       "    .dataframe tbody tr th:only-of-type {\n",
       "        vertical-align: middle;\n",
       "    }\n",
       "\n",
       "    .dataframe tbody tr th {\n",
       "        vertical-align: top;\n",
       "    }\n",
       "\n",
       "    .dataframe thead th {\n",
       "        text-align: right;\n",
       "    }\n",
       "</style>\n",
       "<table border=\"1\" class=\"dataframe\">\n",
       "  <thead>\n",
       "    <tr style=\"text-align: right;\">\n",
       "      <th></th>\n",
       "      <th>subject</th>\n",
       "      <th>relation</th>\n",
       "      <th>fact_id</th>\n",
       "    </tr>\n",
       "  </thead>\n",
       "  <tbody>\n",
       "    <tr>\n",
       "      <th>0</th>\n",
       "      <td>President van Frankryk</td>\n",
       "      <td>P1001</td>\n",
       "      <td>President van Frankryk_P1001</td>\n",
       "    </tr>\n",
       "    <tr>\n",
       "      <th>1</th>\n",
       "      <td>Kategorie:Eerste Ministers van Kanada</td>\n",
       "      <td>P1001</td>\n",
       "      <td>Kategorie:Eerste Ministers van Kanada_P1001</td>\n",
       "    </tr>\n",
       "    <tr>\n",
       "      <th>2</th>\n",
       "      <td>President van Brasilië</td>\n",
       "      <td>P1001</td>\n",
       "      <td>President van Brasilië_P1001</td>\n",
       "    </tr>\n",
       "    <tr>\n",
       "      <th>3</th>\n",
       "      <td>Eerste Minister van Australië</td>\n",
       "      <td>P1001</td>\n",
       "      <td>Eerste Minister van Australië_P1001</td>\n",
       "    </tr>\n",
       "    <tr>\n",
       "      <th>4</th>\n",
       "      <td>Parlement van Kanada</td>\n",
       "      <td>P1001</td>\n",
       "      <td>Parlement van Kanada_P1001</td>\n",
       "    </tr>\n",
       "  </tbody>\n",
       "</table>\n",
       "</div>"
      ],
      "text/plain": [
       "                                 subject relation  \\\n",
       "0                 President van Frankryk    P1001   \n",
       "1  Kategorie:Eerste Ministers van Kanada    P1001   \n",
       "2                 President van Brasilië    P1001   \n",
       "3          Eerste Minister van Australië    P1001   \n",
       "4                   Parlement van Kanada    P1001   \n",
       "\n",
       "                                       fact_id  \n",
       "0                 President van Frankryk_P1001  \n",
       "1  Kategorie:Eerste Ministers van Kanada_P1001  \n",
       "2                 President van Brasilië_P1001  \n",
       "3          Eerste Minister van Australië_P1001  \n",
       "4                   Parlement van Kanada_P1001  "
      ]
     },
     "execution_count": 60,
     "metadata": {},
     "output_type": "execute_result"
    }
   ],
   "source": [
    "# Create a key that uniquely identifies each fact (subject + relation)\n",
    "result_df[\"fact_id\"] = result_df[\"subject\"] + \"_\" + result_df[\"relation\"]\n",
    "print(\"Example fact_id added:\")\n",
    "result_df[[\"subject\", \"relation\", \"fact_id\"]].head()"
   ]
  },
  {
   "cell_type": "code",
   "execution_count": 62,
   "id": "4115881d",
   "metadata": {},
   "outputs": [
    {
     "name": "stdout",
     "output_type": "stream",
     "text": [
      "Computed consistency for 924 facts.\n"
     ]
    },
    {
     "data": {
      "text/html": [
       "<div>\n",
       "<style scoped>\n",
       "    .dataframe tbody tr th:only-of-type {\n",
       "        vertical-align: middle;\n",
       "    }\n",
       "\n",
       "    .dataframe tbody tr th {\n",
       "        vertical-align: top;\n",
       "    }\n",
       "\n",
       "    .dataframe thead th {\n",
       "        text-align: right;\n",
       "    }\n",
       "</style>\n",
       "<table border=\"1\" class=\"dataframe\">\n",
       "  <thead>\n",
       "    <tr style=\"text-align: right;\">\n",
       "      <th></th>\n",
       "      <th>fact_id</th>\n",
       "      <th>consistency</th>\n",
       "      <th>n_languages</th>\n",
       "    </tr>\n",
       "  </thead>\n",
       "  <tbody>\n",
       "    <tr>\n",
       "      <th>0</th>\n",
       "      <td>.de_P1001</td>\n",
       "      <td>0.125000</td>\n",
       "      <td>8</td>\n",
       "    </tr>\n",
       "    <tr>\n",
       "      <th>1</th>\n",
       "      <td>Aamer Haleem_place_of_birth</td>\n",
       "      <td>0.200000</td>\n",
       "      <td>10</td>\n",
       "    </tr>\n",
       "    <tr>\n",
       "      <th>2</th>\n",
       "      <td>Aarne Lakomaa_place_of_birth</td>\n",
       "      <td>0.333333</td>\n",
       "      <td>9</td>\n",
       "    </tr>\n",
       "    <tr>\n",
       "      <th>3</th>\n",
       "      <td>Aarne Ruben_place_of_birth</td>\n",
       "      <td>0.500000</td>\n",
       "      <td>6</td>\n",
       "    </tr>\n",
       "    <tr>\n",
       "      <th>4</th>\n",
       "      <td>Abraham Maslow_P101</td>\n",
       "      <td>0.333333</td>\n",
       "      <td>3</td>\n",
       "    </tr>\n",
       "  </tbody>\n",
       "</table>\n",
       "</div>"
      ],
      "text/plain": [
       "                        fact_id  consistency  n_languages\n",
       "0                     .de_P1001     0.125000            8\n",
       "1   Aamer Haleem_place_of_birth     0.200000           10\n",
       "2  Aarne Lakomaa_place_of_birth     0.333333            9\n",
       "3    Aarne Ruben_place_of_birth     0.500000            6\n",
       "4           Abraham Maslow_P101     0.333333            3"
      ]
     },
     "execution_count": 62,
     "metadata": {},
     "output_type": "execute_result"
    }
   ],
   "source": [
    "# Group by fact_id\n",
    "fact_groups = result_df.groupby(\"fact_id\")\n",
    "\n",
    "consistency_list = []\n",
    "\n",
    "for fact_id, group in fact_groups:\n",
    "    answers = group[\"predicted_answer\"]\n",
    "    if len(answers) > 1:\n",
    "        # Count the most common answer\n",
    "        most_common_answer = answers.mode()[0]\n",
    "        consistency = (answers == most_common_answer).sum() / len(answers)\n",
    "        consistency_list.append({\n",
    "            \"fact_id\": fact_id,\n",
    "            \"consistency\": consistency,\n",
    "            \"n_languages\": len(answers)\n",
    "        })\n",
    "\n",
    "consistency_df = pd.DataFrame(consistency_list)\n",
    "print(f\"Computed consistency for {len(consistency_df)} facts.\")\n",
    "consistency_df.head()"
   ]
  },
  {
   "cell_type": "code",
   "execution_count": 63,
   "id": "3585fcac",
   "metadata": {},
   "outputs": [
    {
     "data": {
      "image/png": "[encoded data removed]",
      "text/plain": [
       "<Figure size 1000x500 with 1 Axes>"
      ]
     },
     "metadata": {},
     "output_type": "display_data"
    }
   ],
   "source": [
    "plt.figure(figsize=(10, 5))\n",
    "sns.histplot(consistency_df[\"consistency\"], bins=20, kde=True, color=\"skyblue\")\n",
    "plt.title(\"Distribution of Answer Consistency Across Languages\")\n",
    "plt.xlabel(\"Consistency Score\")\n",
    "plt.ylabel(\"Number of Facts\")\n",
    "plt.grid(axis='y')\n",
    "plt.show()"
   ]
  },
  {
   "cell_type": "markdown",
   "id": "97a40299",
   "metadata": {},
   "source": [
    "The average and median consistency scores being around 50% show that **for many facts, Aya answers differently in different languages half of the time**.  \n",
    "Only a small fraction (~9%) of facts are perfectly consistent across all evaluated languages.\n",
    "\n",
    "This strongly suggests that **Aya stores and retrieves factual knowledge in a partially language-dependent way**."
   ]
  },
  {
   "cell_type": "code",
   "execution_count": 75,
   "id": "217e151f",
   "metadata": {},
   "outputs": [
    {
     "name": "stdout",
     "output_type": "stream",
     "text": [
      "Summary of Consistency Metrics:\n",
      "{'Average Consistency': np.float64(0.4824539489844758), 'Median Consistency': np.float64(0.5), 'Percentage of Perfectly Consistent Facts': np.float64(8.874458874458876)}\n"
     ]
    }
   ],
   "source": [
    "# Summary Statistics\n",
    "consistency_summary = {\n",
    "    \"Average Consistency\": np.mean(consistency_df[\"consistency\"]),\n",
    "    \"Median Consistency\": np.median(consistency_df[\"consistency\"]),\n",
    "    \"Percentage of Perfectly Consistent Facts\": (consistency_df[\"consistency\"] == 1.0).mean() * 100\n",
    "}\n",
    "\n",
    "print(\"Summary of Consistency Metrics:\")\n",
    "print(consistency_summary)"
   ]
  },
  {
   "cell_type": "markdown",
   "id": "bed255a8",
   "metadata": {},
   "source": [
    "The average and median consistency scores being around 50% show that **for many facts, Aya answers differently in different languages half of the time**.  \n",
    "Only a small fraction (~9%) of facts are perfectly consistent across all evaluated languages.\n",
    "\n",
    "This strongly suggests that **Aya stores and retrieves factual knowledge in a partially language-dependent way**."
   ]
  },
  {
   "cell_type": "code",
   "execution_count": 46,
   "id": "46800f09",
   "metadata": {},
   "outputs": [
    {
     "name": "stdout",
     "output_type": "stream",
     "text": [
      "Rate of UNKNOWN answers: 0.28%\n"
     ]
    }
   ],
   "source": [
    "unknown_rate = (result_df[\"predicted_answer\"] == \"UNKNOWN\").mean()\n",
    "print(f\"Rate of UNKNOWN answers: {unknown_rate:.2%}\")"
   ]
  },
  {
   "cell_type": "markdown",
   "id": "4c8cdd6a",
   "metadata": {},
   "source": [
    "A very small proportion of answers were `\"UNKNOWN\"`, which means the model almost always attempted an answer and did not skip or default excessively.  \n",
    "Thus, variations in responses are due to real **answer differences**, not model refusal."
   ]
  },
  {
   "cell_type": "code",
   "execution_count": 78,
   "id": "fda077ef",
   "metadata": {},
   "outputs": [
    {
     "name": "stdout",
     "output_type": "stream",
     "text": [
      "Loaded 10800 rows.\n",
      "Computing embeddings...\n"
     ]
    },
    {
     "name": "stderr",
     "output_type": "stream",
     "text": [
      "100%|██████████| 108/108 [02:04<00:00,  1.15s/it]\n"
     ]
    },
    {
     "name": "stdout",
     "output_type": "stream",
     "text": [
      "Embedding computation completed.\n"
     ]
    },
    {
     "name": "stderr",
     "output_type": "stream",
     "text": [
      "Computing similarity per fact: 100%|██████████| 6690/6690 [00:01<00:00, 4165.59it/s] "
     ]
    },
    {
     "name": "stdout",
     "output_type": "stream",
     "text": [
      "Average Embedding Similarity: 0.741\n",
      "Median Embedding Similarity: 0.731\n",
      "Percentage of facts with similarity > 0.8: 35.93%\n"
     ]
    },
    {
     "name": "stderr",
     "output_type": "stream",
     "text": [
      "\n"
     ]
    }
   ],
   "source": [
    "# Import libraries\n",
    "import pandas as pd\n",
    "import numpy as np\n",
    "from tqdm import tqdm\n",
    "from scipy.spatial.distance import cosine\n",
    "import cohere\n",
    "\n",
    "# Initialize Cohere client\n",
    "co = cohere.Client(\"YOUR_COHERE_API_KEY\")  # Replace with your actual API key\n",
    "\n",
    "# Load the previous evaluation results\n",
    "result_df = pd.read_csv(\"../results/mlama_factual_knowledge_results.csv\")\n",
    "\n",
    "# Display a sample of the data\n",
    "print(f\"Loaded {len(result_df)} rows.\")\n",
    "result_df.head()\n",
    "\n",
    "# Compute embeddings for each predicted answer using Cohere embed-multilingual-v3.0 model\n",
    "print(\"Computing embeddings...\")\n",
    "\n",
    "batch_size = 100  # Cohere API handles batch requests efficiently\n",
    "embeddings = []\n",
    "\n",
    "for i in tqdm(range(0, len(result_df), batch_size)):\n",
    "    batch_texts = result_df['predicted_answer'].iloc[i:i+batch_size].astype(str).tolist()\n",
    "    response = co.embed(\n",
    "        texts=batch_texts,\n",
    "        model=\"embed-multilingual-v3.0\",\n",
    "        input_type=\"classification\"  # appropriate for short answers\n",
    "    )\n",
    "    embeddings.extend(response.embeddings)\n",
    "\n",
    "# Add embeddings to the dataframe\n",
    "result_df['embedding'] = embeddings\n",
    "\n",
    "print(\"Embedding computation completed.\")\n",
    "\n",
    "# Create fact_id for grouping (subject + relation)\n",
    "result_df[\"fact_id\"] = result_df[\"subject\"].astype(str) + \"_\" + result_df[\"relation\"].astype(str)\n",
    "\n",
    "# Group by fact_id\n",
    "fact_groups = result_df.groupby(\"fact_id\")\n",
    "\n",
    "# List to store similarity results\n",
    "fact_similarity_records = []\n",
    "\n",
    "for fact_id, group in tqdm(fact_groups, desc=\"Computing similarity per fact\"):\n",
    "    embeddings = group[\"embedding\"].tolist()\n",
    "    n = len(embeddings)\n",
    "    \n",
    "    # Skip if there is only one language\n",
    "    if n <= 1:\n",
    "        continue\n",
    "    \n",
    "    # Calculate pairwise cosine similarities\n",
    "    similarities = []\n",
    "    for i in range(n):\n",
    "        for j in range(i + 1, n):\n",
    "            sim = 1 - cosine(embeddings[i], embeddings[j])\n",
    "            similarities.append(sim)\n",
    "    \n",
    "    # Compute average similarity for the fact\n",
    "    avg_similarity = np.mean(similarities) if similarities else None\n",
    "    \n",
    "    fact_similarity_records.append({\n",
    "        \"fact_id\": fact_id,\n",
    "        \"n_languages\": n,\n",
    "        \"avg_similarity\": avg_similarity\n",
    "    })\n",
    "\n",
    "# Convert the similarity records into a DataFrame\n",
    "similarity_df = pd.DataFrame(fact_similarity_records)\n",
    "similarity_df.head()\n",
    "\n",
    "# Summary statistics\n",
    "avg_sim = similarity_df['avg_similarity'].mean()\n",
    "median_sim = similarity_df['avg_similarity'].median()\n",
    "high_sim_rate = (similarity_df['avg_similarity'] > 0.8).mean()\n",
    "\n",
    "print(f\"Average Embedding Similarity: {avg_sim:.3f}\")\n",
    "print(f\"Median Embedding Similarity: {median_sim:.3f}\")\n",
    "print(f\"Percentage of facts with similarity > 0.8: {high_sim_rate:.2%}\")"
   ]
  },
  {
   "cell_type": "code",
   "execution_count": 79,
   "id": "80795a4d",
   "metadata": {},
   "outputs": [
    {
     "data": {
      "image/png": "[encoded data removed]",
      "text/plain": [
       "<Figure size 1000x600 with 1 Axes>"
      ]
     },
     "metadata": {},
     "output_type": "display_data"
    }
   ],
   "source": [
    "# Set style\n",
    "sns.set(style=\"whitegrid\")\n",
    "\n",
    "# Plot histogram of average embedding similarities\n",
    "plt.figure(figsize=(10,6))\n",
    "sns.histplot(similarity_df['avg_similarity'], bins=30, kde=True, color='skyblue')\n",
    "plt.title('Distribution of Average Embedding Similarity per Fact', fontsize=16)\n",
    "plt.xlabel('Average Embedding Similarity', fontsize=14)\n",
    "plt.ylabel('Number of Facts', fontsize=14)\n",
    "plt.axvline(x=0.8, color='red', linestyle='--', label='Threshold 0.8')\n",
    "plt.legend()\n",
    "plt.show()"
   ]
  },
  {
   "cell_type": "markdown",
   "id": "5665e905",
   "metadata": {},
   "source": [
    "While Aya generally provides semantically similar factual answers across languages, the embedding similarity is not consistently very high. This suggests that:\n",
    "- There is **good but imperfect semantic consistency** across languages.\n",
    "- Some factual representations may vary slightly depending on the language.\n",
    "\n",
    "Together with the answer consistency results, this indicates that **Aya stores factual knowledge mostly neutrally across languages, but minor variations still exist**."
   ]
  },
  {
   "cell_type": "markdown",
   "id": "f9fd93b1",
   "metadata": {},
   "source": [
    "# ✨ Summary Conclusion\n",
    "\n",
    "- Aya exhibits **strong factual capabilities** in some languages but weaker performance in others.\n",
    "- Factual answers are **not consistently neutral across languages**, with significant variation observed between languages.\n",
    "- The language of the question **affects** Aya's factual output, indicating that factual information is partially **language-tied** inside the model.\n",
    "- Cross-lingual **semantic similarity** of answers is **good but imperfect**, with an average embedding similarity of **0.741**.\n",
    "- About **35.93%** of facts have a high semantic similarity (>0.8), but others show noticeable semantic drift across languages.\n",
    "\n",
    "### 🎯 Main Question Answer:\n",
    "> **Does Aya store factual knowledge neutrally?**  \n",
    ">  \n",
    "> ❌ **No, Aya does not fully store factual knowledge neutrally.**  \n",
    ">  \n",
    "> Factual consistency varies significantly across languages, implying that Aya's knowledge encoding depends partly on the input language.  \n",
    ">  \n",
    "> Only about **9%** of facts were perfectly consistent across languages (exact match), and the overall consistency rate is around **50%**.  \n",
    "> Additionally, embedding similarity analysis shows that while most facts are semantically close across languages, **perfect neutrality is not achieved**."
   ]
  }
 ],
 "metadata": {
  "kernelspec": {
   "display_name": ".venv",
   "language": "python",
   "name": "python3"
  },
  "language_info": {
   "codemirror_mode": {
    "name": "ipython",
    "version": 3
   },
   "file_extension": ".py",
   "mimetype": "text/x-python",
   "name": "python",
   "nbconvert_exporter": "python",
   "pygments_lexer": "ipython3",
   "version": "3.10.0"
  }
 },
 "nbformat": 4,
 "nbformat_minor": 5
}
