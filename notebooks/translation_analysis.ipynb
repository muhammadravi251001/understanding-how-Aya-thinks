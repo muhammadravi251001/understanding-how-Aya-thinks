{
 "cells": [
  {
   "cell_type": "markdown",
   "id": "3b3c042d",
   "metadata": {},
   "source": [
    "# Does English language can give better performance on the QA result? Using XQuAD dataset"
   ]
  },
  {
   "cell_type": "markdown",
   "id": "5e459684",
   "metadata": {},
   "source": [
    "Description:\n",
    "* Does translation improve performance?\n",
    "* Method: Analyze accuracy boost when translating input before inference.\n",
    "* Evaluation: Difference in accuracy between direct vs. translated input.\n",
    "* Input: Benchmark multilingual QA datasets.\n",
    "* Output: Performance comparison of direct vs. translated inference.\n",
    "* Expected Insight: If translating improves responses, it suggests an internal preference for English."
   ]
  },
  {
   "cell_type": "markdown",
   "id": "2dad635d",
   "metadata": {},
   "source": [
    "This notebook `.ipynb` aims to do analysis on the `results/xquad_translation_results` result from the `experiments/translation_experiment` experiment."
   ]
  },
  {
   "cell_type": "code",
   "execution_count": 2,
   "id": "adbc4cbb",
   "metadata": {},
   "outputs": [],
   "source": [
    "import pandas as pd\n",
    "import matplotlib.pyplot as plt\n",
    "import seaborn as sns"
   ]
  },
  {
   "cell_type": "code",
   "execution_count": 3,
   "id": "9c812275",
   "metadata": {},
   "outputs": [],
   "source": [
    "result_df = pd.read_csv(\"../results/xquad_translation_results.csv\")"
   ]
  },
  {
   "cell_type": "code",
   "execution_count": 4,
   "id": "bd5a1fba",
   "metadata": {},
   "outputs": [
    {
     "name": "stdout",
     "output_type": "stream",
     "text": [
      "<class 'pandas.core.frame.DataFrame'>\n",
      "RangeIndex: 14280 entries, 0 to 14279\n",
      "Data columns (total 7 columns):\n",
      " #   Column            Non-Null Count  Dtype  \n",
      "---  ------            --------------  -----  \n",
      " 0   language          14280 non-null  object \n",
      " 1   context           14280 non-null  object \n",
      " 2   question          14280 non-null  object \n",
      " 3   golden_answer     14279 non-null  object \n",
      " 4   predicted_answer  14279 non-null  object \n",
      " 5   exact_match       14280 non-null  int64  \n",
      " 6   f1_score          14280 non-null  float64\n",
      "dtypes: float64(1), int64(1), object(5)\n",
      "memory usage: 781.1+ KB\n"
     ]
    }
   ],
   "source": [
    "result_df.info()"
   ]
  },
  {
   "cell_type": "code",
   "execution_count": 5,
   "id": "b79754b6",
   "metadata": {},
   "outputs": [
    {
     "name": "stdout",
     "output_type": "stream",
     "text": [
      "Loaded 14280 rows.\n"
     ]
    },
    {
     "data": {
      "text/html": [
       "<div>\n",
       "<style scoped>\n",
       "    .dataframe tbody tr th:only-of-type {\n",
       "        vertical-align: middle;\n",
       "    }\n",
       "\n",
       "    .dataframe tbody tr th {\n",
       "        vertical-align: top;\n",
       "    }\n",
       "\n",
       "    .dataframe thead th {\n",
       "        text-align: right;\n",
       "    }\n",
       "</style>\n",
       "<table border=\"1\" class=\"dataframe\">\n",
       "  <thead>\n",
       "    <tr style=\"text-align: right;\">\n",
       "      <th></th>\n",
       "      <th>language</th>\n",
       "      <th>context</th>\n",
       "      <th>question</th>\n",
       "      <th>golden_answer</th>\n",
       "      <th>predicted_answer</th>\n",
       "      <th>exact_match</th>\n",
       "      <th>f1_score</th>\n",
       "    </tr>\n",
       "  </thead>\n",
       "  <tbody>\n",
       "    <tr>\n",
       "      <th>0</th>\n",
       "      <td>ara</td>\n",
       "      <td>لم يتخلى فريق بانثرز سوى عن 308 نقطة، ليحتل ال...</td>\n",
       "      <td>كم نقطة تخلى عنها دفاع البانثرز؟</td>\n",
       "      <td>308</td>\n",
       "      <td>308 نقطة</td>\n",
       "      <td>0</td>\n",
       "      <td>0.666667</td>\n",
       "    </tr>\n",
       "    <tr>\n",
       "      <th>1</th>\n",
       "      <td>ara</td>\n",
       "      <td>لم يتخلى فريق بانثرز سوى عن 308 نقطة، ليحتل ال...</td>\n",
       "      <td>كم عدد الاستحواذات التي قام بها جاريد ألين في ...</td>\n",
       "      <td>136</td>\n",
       "      <td>136</td>\n",
       "      <td>1</td>\n",
       "      <td>1.000000</td>\n",
       "    </tr>\n",
       "    <tr>\n",
       "      <th>2</th>\n",
       "      <td>ara</td>\n",
       "      <td>لم يتخلى فريق بانثرز سوى عن 308 نقطة، ليحتل ال...</td>\n",
       "      <td>كم عرقلة سجل لوك كوتشلي؟</td>\n",
       "      <td>118</td>\n",
       "      <td>118</td>\n",
       "      <td>1</td>\n",
       "      <td>1.000000</td>\n",
       "    </tr>\n",
       "    <tr>\n",
       "      <th>3</th>\n",
       "      <td>ara</td>\n",
       "      <td>لم يتخلى فريق بانثرز سوى عن 308 نقطة، ليحتل ال...</td>\n",
       "      <td>كم من كرة اعترض جوش نورمان؟</td>\n",
       "      <td>أربعة</td>\n",
       "      <td>أربع اعتراضات، تم إرجاع اثنين منها للهدف.</td>\n",
       "      <td>0</td>\n",
       "      <td>0.000000</td>\n",
       "    </tr>\n",
       "    <tr>\n",
       "      <th>4</th>\n",
       "      <td>ara</td>\n",
       "      <td>لم يتخلى فريق بانثرز سوى عن 308 نقطة، ليحتل ال...</td>\n",
       "      <td>من سجل أعلى عدد من الاستحواذات للفريق هذا الموسم؟</td>\n",
       "      <td>كاوان شورت</td>\n",
       "      <td>جاريد ألان</td>\n",
       "      <td>0</td>\n",
       "      <td>0.000000</td>\n",
       "    </tr>\n",
       "  </tbody>\n",
       "</table>\n",
       "</div>"
      ],
      "text/plain": [
       "  language                                            context  \\\n",
       "0      ara  لم يتخلى فريق بانثرز سوى عن 308 نقطة، ليحتل ال...   \n",
       "1      ara  لم يتخلى فريق بانثرز سوى عن 308 نقطة، ليحتل ال...   \n",
       "2      ara  لم يتخلى فريق بانثرز سوى عن 308 نقطة، ليحتل ال...   \n",
       "3      ara  لم يتخلى فريق بانثرز سوى عن 308 نقطة، ليحتل ال...   \n",
       "4      ara  لم يتخلى فريق بانثرز سوى عن 308 نقطة، ليحتل ال...   \n",
       "\n",
       "                                            question golden_answer  \\\n",
       "0                   كم نقطة تخلى عنها دفاع البانثرز؟           308   \n",
       "1  كم عدد الاستحواذات التي قام بها جاريد ألين في ...           136   \n",
       "2                           كم عرقلة سجل لوك كوتشلي؟           118   \n",
       "3                        كم من كرة اعترض جوش نورمان؟         أربعة   \n",
       "4  من سجل أعلى عدد من الاستحواذات للفريق هذا الموسم؟    كاوان شورت   \n",
       "\n",
       "                            predicted_answer  exact_match  f1_score  \n",
       "0                                   308 نقطة            0  0.666667  \n",
       "1                                        136            1  1.000000  \n",
       "2                                        118            1  1.000000  \n",
       "3  أربع اعتراضات، تم إرجاع اثنين منها للهدف.            0  0.000000  \n",
       "4                                 جاريد ألان            0  0.000000  "
      ]
     },
     "execution_count": 5,
     "metadata": {},
     "output_type": "execute_result"
    }
   ],
   "source": [
    "print(f\"Loaded {len(result_df)} rows.\")\n",
    "result_df.head()"
   ]
  },
  {
   "cell_type": "code",
   "execution_count": 6,
   "id": "0bb69129",
   "metadata": {},
   "outputs": [
    {
     "name": "stdout",
     "output_type": "stream",
     "text": [
      "Average Exact Match: 0.4796\n",
      "Average F1 Score: 0.2570\n"
     ]
    }
   ],
   "source": [
    "# Calculate the average Exact Match and F1 score across all languages\n",
    "average_exact_match = result_df['exact_match'].mean()\n",
    "average_f1_score = result_df['f1_score'].mean()\n",
    "\n",
    "# Print the results\n",
    "print(f\"Average Exact Match: {average_exact_match:.4f}\")\n",
    "print(f\"Average F1 Score: {average_f1_score:.4f}\")"
   ]
  },
  {
   "cell_type": "markdown",
   "id": "494b0678",
   "metadata": {},
   "source": [
    "While Aya achieves a reasonable performance overall, the average **Exact Match (EM)** of **0.4796** and **F1 Score** of **0.2570** suggest that:\n",
    "* Aya is capable of producing fully correct answers in nearly half of the cases, reflecting strong exact matching across languages.\n",
    "* However, the relatively low F1 score indicates that when Aya fails to match exactly, it often struggles to produce even partially correct responses.\n",
    "\n",
    "Together, these results suggest that **Aya performs well when it gets the answer right**, but **its fallback answers tend to miss key elements**, especially in multilingual contexts.\n"
   ]
  },
  {
   "cell_type": "code",
   "execution_count": 7,
   "id": "4501e61b",
   "metadata": {},
   "outputs": [
    {
     "name": "stdout",
     "output_type": "stream",
     "text": [
      "   language  exact_match  f1_score\n",
      "3       eng     0.694958  0.304413\n",
      "11      zho     0.580672  0.580868\n",
      "10      vie     0.536975  0.141493\n",
      "1       deu     0.495798  0.263977\n",
      "8       tha     0.490756  0.407891\n",
      "5       ron     0.463866  0.222823\n",
      "0       ara     0.452101  0.179789\n",
      "7       spa     0.442017  0.185962\n",
      "4       hin     0.426891  0.228499\n",
      "2       ell     0.408403  0.204149\n",
      "9       tur     0.398319  0.194539\n",
      "6       rus     0.364706  0.169615\n"
     ]
    }
   ],
   "source": [
    "# Group the results by language and calculate the average EM and F1 score for each\n",
    "language_performance = result_df.groupby('language').agg({\n",
    "    'exact_match': 'mean',\n",
    "    'f1_score': 'mean'\n",
    "}).reset_index()\n",
    "\n",
    "# Print the language-wise performance comparison\n",
    "print(language_performance.sort_values(by='exact_match', ascending=False))"
   ]
  },
  {
   "cell_type": "code",
   "execution_count": 8,
   "id": "cce0feed",
   "metadata": {},
   "outputs": [
    {
     "name": "stderr",
     "output_type": "stream",
     "text": [
      "C:\\Users\\Muhammad Ravi SH\\AppData\\Local\\Temp\\ipykernel_9236\\3389364518.py:8: FutureWarning: \n",
      "\n",
      "Passing `palette` without assigning `hue` is deprecated and will be removed in v0.14.0. Assign the `x` variable to `hue` and set `legend=False` for the same effect.\n",
      "\n",
      "  sns.barplot(data=language_sorted, x=\"language\", y=\"exact_match\", palette=\"Blues_d\")\n"
     ]
    },
    {
     "data": {
      "image/png": "[encoded data removed]",
      "text/plain": [
       "<Figure size 1200x600 with 1 Axes>"
      ]
     },
     "metadata": {},
     "output_type": "display_data"
    }
   ],
   "source": [
    "# Set the figure size\n",
    "plt.figure(figsize=(12, 6))\n",
    "\n",
    "# Sort by Exact Match for better readability\n",
    "language_sorted = language_performance.sort_values(by=\"exact_match\", ascending=False)\n",
    "\n",
    "# Barplot for Exact Match\n",
    "sns.barplot(data=language_sorted, x=\"language\", y=\"exact_match\", palette=\"Blues_d\")\n",
    "plt.title(\"Exact Match (EM) Score per Language\")\n",
    "plt.xlabel(\"Language (ISO-3 code)\")\n",
    "plt.ylabel(\"Exact Match Score\")\n",
    "plt.ylim(0, 1)\n",
    "plt.show()"
   ]
  },
  {
   "cell_type": "code",
   "execution_count": 9,
   "id": "4c9a4682",
   "metadata": {},
   "outputs": [
    {
     "name": "stderr",
     "output_type": "stream",
     "text": [
      "C:\\Users\\Muhammad Ravi SH\\AppData\\Local\\Temp\\ipykernel_9236\\1243731046.py:8: FutureWarning: \n",
      "\n",
      "Passing `palette` without assigning `hue` is deprecated and will be removed in v0.14.0. Assign the `x` variable to `hue` and set `legend=False` for the same effect.\n",
      "\n",
      "  sns.barplot(data=language_sorted, x=\"language\", y=\"f1_score\", palette=\"Blues_d\")\n"
     ]
    },
    {
     "data": {
      "image/png": "[encoded data removed]",
      "text/plain": [
       "<Figure size 1200x600 with 1 Axes>"
      ]
     },
     "metadata": {},
     "output_type": "display_data"
    }
   ],
   "source": [
    "# Set the figure size\n",
    "plt.figure(figsize=(12, 6))\n",
    "\n",
    "# Sort by F1 score for better readability\n",
    "language_sorted = language_performance.sort_values(by=\"f1_score\", ascending=False)\n",
    "\n",
    "# Barplot for F1 score\n",
    "sns.barplot(data=language_sorted, x=\"language\", y=\"f1_score\", palette=\"Blues_d\")\n",
    "plt.title(\"F1 Score per Language\")\n",
    "plt.xlabel(\"Language (ISO-3 code)\")\n",
    "plt.ylabel(\"F1 Score\")\n",
    "plt.ylim(0, 1)\n",
    "plt.show()"
   ]
  },
  {
   "cell_type": "markdown",
   "id": "182dba35",
   "metadata": {},
   "source": [
    "Aya's performance across languages is **uneven**, with English (**eng**) achieving the highest Exact Match (**0.695**) by a significant margin. Chinese (**zho**) also performs strongly, with both EM and F1 around **0.58**, indicating consistent and partially accurate predictions. In contrast, Vietnamese (**vie**) shows a **high EM but very low F1**, suggesting that Aya either gets the answer exactly right or mostly wrong, with little in between. This suggests that:\n",
    "\n",
    "* **Aya performs best when processing English inputs**, achieving the highest precision overall.\n",
    "* **Non-English languages show a drop in performance**, though the pattern varies — some, like Chinese and Thai, show reasonable partial matches, while others, such as Russian and Turkish, lag more significantly.\n",
    "\n",
    "Overall, while Aya demonstrates multilingual ability, **its responses are most accurate and stable in English**, with notable inconsistencies across other languages."
   ]
  },
  {
   "cell_type": "code",
   "execution_count": 11,
   "id": "2ff120a8",
   "metadata": {},
   "outputs": [
    {
     "data": {
      "text/html": [
       "<div>\n",
       "<style scoped>\n",
       "    .dataframe tbody tr th:only-of-type {\n",
       "        vertical-align: middle;\n",
       "    }\n",
       "\n",
       "    .dataframe tbody tr th {\n",
       "        vertical-align: top;\n",
       "    }\n",
       "\n",
       "    .dataframe thead th {\n",
       "        text-align: right;\n",
       "    }\n",
       "</style>\n",
       "<table border=\"1\" class=\"dataframe\">\n",
       "  <thead>\n",
       "    <tr style=\"text-align: right;\">\n",
       "      <th></th>\n",
       "      <th>language</th>\n",
       "      <th>exact_match</th>\n",
       "      <th>f1_score</th>\n",
       "      <th>em_gap_vs_english</th>\n",
       "      <th>f1_gap_vs_english</th>\n",
       "    </tr>\n",
       "  </thead>\n",
       "  <tbody>\n",
       "    <tr>\n",
       "      <th>6</th>\n",
       "      <td>rus</td>\n",
       "      <td>0.364706</td>\n",
       "      <td>0.169615</td>\n",
       "      <td>0.330252</td>\n",
       "      <td>0.134798</td>\n",
       "    </tr>\n",
       "    <tr>\n",
       "      <th>9</th>\n",
       "      <td>tur</td>\n",
       "      <td>0.398319</td>\n",
       "      <td>0.194539</td>\n",
       "      <td>0.296639</td>\n",
       "      <td>0.109875</td>\n",
       "    </tr>\n",
       "    <tr>\n",
       "      <th>2</th>\n",
       "      <td>ell</td>\n",
       "      <td>0.408403</td>\n",
       "      <td>0.204149</td>\n",
       "      <td>0.286555</td>\n",
       "      <td>0.100264</td>\n",
       "    </tr>\n",
       "    <tr>\n",
       "      <th>4</th>\n",
       "      <td>hin</td>\n",
       "      <td>0.426891</td>\n",
       "      <td>0.228499</td>\n",
       "      <td>0.268067</td>\n",
       "      <td>0.075914</td>\n",
       "    </tr>\n",
       "    <tr>\n",
       "      <th>7</th>\n",
       "      <td>spa</td>\n",
       "      <td>0.442017</td>\n",
       "      <td>0.185962</td>\n",
       "      <td>0.252941</td>\n",
       "      <td>0.118451</td>\n",
       "    </tr>\n",
       "    <tr>\n",
       "      <th>0</th>\n",
       "      <td>ara</td>\n",
       "      <td>0.452101</td>\n",
       "      <td>0.179789</td>\n",
       "      <td>0.242857</td>\n",
       "      <td>0.124624</td>\n",
       "    </tr>\n",
       "    <tr>\n",
       "      <th>5</th>\n",
       "      <td>ron</td>\n",
       "      <td>0.463866</td>\n",
       "      <td>0.222823</td>\n",
       "      <td>0.231092</td>\n",
       "      <td>0.081590</td>\n",
       "    </tr>\n",
       "    <tr>\n",
       "      <th>8</th>\n",
       "      <td>tha</td>\n",
       "      <td>0.490756</td>\n",
       "      <td>0.407891</td>\n",
       "      <td>0.204202</td>\n",
       "      <td>-0.103478</td>\n",
       "    </tr>\n",
       "    <tr>\n",
       "      <th>1</th>\n",
       "      <td>deu</td>\n",
       "      <td>0.495798</td>\n",
       "      <td>0.263977</td>\n",
       "      <td>0.199160</td>\n",
       "      <td>0.040436</td>\n",
       "    </tr>\n",
       "    <tr>\n",
       "      <th>10</th>\n",
       "      <td>vie</td>\n",
       "      <td>0.536975</td>\n",
       "      <td>0.141493</td>\n",
       "      <td>0.157983</td>\n",
       "      <td>0.162920</td>\n",
       "    </tr>\n",
       "    <tr>\n",
       "      <th>11</th>\n",
       "      <td>zho</td>\n",
       "      <td>0.580672</td>\n",
       "      <td>0.580868</td>\n",
       "      <td>0.114286</td>\n",
       "      <td>-0.276455</td>\n",
       "    </tr>\n",
       "  </tbody>\n",
       "</table>\n",
       "</div>"
      ],
      "text/plain": [
       "   language  exact_match  f1_score  em_gap_vs_english  f1_gap_vs_english\n",
       "6       rus     0.364706  0.169615           0.330252           0.134798\n",
       "9       tur     0.398319  0.194539           0.296639           0.109875\n",
       "2       ell     0.408403  0.204149           0.286555           0.100264\n",
       "4       hin     0.426891  0.228499           0.268067           0.075914\n",
       "7       spa     0.442017  0.185962           0.252941           0.118451\n",
       "0       ara     0.452101  0.179789           0.242857           0.124624\n",
       "5       ron     0.463866  0.222823           0.231092           0.081590\n",
       "8       tha     0.490756  0.407891           0.204202          -0.103478\n",
       "1       deu     0.495798  0.263977           0.199160           0.040436\n",
       "10      vie     0.536975  0.141493           0.157983           0.162920\n",
       "11      zho     0.580672  0.580868           0.114286          -0.276455"
      ]
     },
     "execution_count": 11,
     "metadata": {},
     "output_type": "execute_result"
    }
   ],
   "source": [
    "# Get English performance\n",
    "english_em = language_performance[language_performance[\"language\"] == \"eng\"][\"exact_match\"].values[0]\n",
    "english_f1 = language_performance[language_performance[\"language\"] == \"eng\"][\"f1_score\"].values[0]\n",
    "\n",
    "# Calculate the gap for other languages\n",
    "language_performance[\"em_gap_vs_english\"] = english_em - language_performance[\"exact_match\"]\n",
    "language_performance[\"f1_gap_vs_english\"] = english_f1 - language_performance[\"f1_score\"]\n",
    "\n",
    "# Display the gaps excluding English\n",
    "language_performance_gap = language_performance[language_performance[\"language\"] != \"eng\"]\n",
    "language_performance_gap_sorted = language_performance_gap.sort_values(by=\"em_gap_vs_english\", ascending=False)\n",
    "language_performance_gap_sorted"
   ]
  },
  {
   "cell_type": "markdown",
   "id": "da5f4f98",
   "metadata": {},
   "source": [
    "When comparing each language's performance against English, significant performance gaps emerge:\n",
    "- Languages like **Russian**, **Turkish**, and **Greek** exhibit the **largest gaps** in Exact Match and F1 scores relative to English, indicating that translation or adaptation challenges persist.\n",
    "- **Chinese** and **Vietnamese** show the **smallest gaps**, suggesting that Aya handles these languages **more competently** compared to others.\n",
    "\n",
    "Overall, these results indicate that **Aya’s strongest alignment remains with English**, and the performance **drops notably for lower-resource or typologically different languages**."
   ]
  },
  {
   "cell_type": "markdown",
   "id": "dfabafb3",
   "metadata": {},
   "source": [
    "# ✨ Summary Conclusion\n",
    "\n",
    "* Aya demonstrates **reasonable QA capabilities** across languages, with performance **strongest in English** (EM 69.5%) and relatively strong results in languages like Chinese and Vietnamese.\n",
    "* The **average Exact Match (47.96%)** indicates Aya is often fully correct, but the **lower average F1 score (25.70%)** reveals that when it's not exact, responses often lack partial correctness — a sign of “all-or-nothing” behavior.\n",
    "* **Performance is uneven across languages**, with noticeable drops in Russian, Turkish, and Greek, indicating that QA quality is **language-dependent**.\n",
    "* Some languages, like Chinese and Thai, maintain **decent F1 scores**, suggesting that **Aya can partially understand or approximate answers** even when not exact.\n",
    "* These patterns show Aya’s **strength in high-resource languages** but highlight the **need for improvement in consistent multilingual understanding**."
   ]
  },
  {
   "cell_type": "markdown",
   "id": "135d1fe5",
   "metadata": {},
   "source": [
    "### 🎯 **Main Question Answer**:\n",
    "\n",
    "> **Does English language can give better performance on the QA result?**\n",
    ">\n",
    "> ✅ **Yes, translation improves Aya's QA performance** in the sense that **Aya performs better on English inputs**.\n",
    ">\n",
    "> The English language does give **better performance** on the results. Aya achieves its **highest Exact Match score (69.5%)** in English, indicating it answers more accurately in English than in other languages. This supports the conclusion that Aya performs **strongest in English**, likely due to greater training data and better language representation.\n",
    ">\n",
    "> However, this also reinforces the **English-centric nature** of Aya, suggesting it might be more effective with English inputs, and shows that Aya's multilingual capabilities might still require more **adaptation** and **refinement** for non-English languages."
   ]
  }
 ],
 "metadata": {
  "kernelspec": {
   "display_name": ".venv",
   "language": "python",
   "name": "python3"
  },
  "language_info": {
   "codemirror_mode": {
    "name": "ipython",
    "version": 3
   },
   "file_extension": ".py",
   "mimetype": "text/x-python",
   "name": "python",
   "nbconvert_exporter": "python",
   "pygments_lexer": "ipython3",
   "version": "3.10.0"
  }
 },
 "nbformat": 4,
 "nbformat_minor": 5
}
