{
 "cells": [
  {
   "cell_type": "markdown",
   "id": "edacb832",
   "metadata": {},
   "source": [
    "# Does Aya \"think\" in English first via cosine similarity? Using FLORES-200 dataset"
   ]
  },
  {
   "cell_type": "markdown",
   "id": "8a875008",
   "metadata": {},
   "source": [
    "Description:\n",
    "* How English-centric is Aya compared to other models?\n",
    "* Method: Analyze token probabilities to check if English appears first.\n",
    "* Evaluation: Cosine similarity between log probabilities in English vs. target language.\n",
    "* Input: Multilingual sentences from different datasets.\n",
    "* Output: Probability distribution of initial generated tokens.\n",
    "* Expected Insight: If English tokens consistently appear first, Aya may have an internal English preference."
   ]
  },
  {
   "cell_type": "markdown",
   "id": "f320e143",
   "metadata": {},
   "source": [
    "This notebook `.ipynb` aims to do analysis on the `results/flores200_likelihood_cosine_similarity_results` result from the `experiments/likelihood_cosine_similarity_experiment` experiment."
   ]
  },
  {
   "cell_type": "code",
   "execution_count": 1,
   "id": "39aeb877",
   "metadata": {},
   "outputs": [],
   "source": [
    "import pandas as pd\n",
    "import matplotlib.pyplot as plt"
   ]
  },
  {
   "cell_type": "code",
   "execution_count": 2,
   "id": "95f07494",
   "metadata": {},
   "outputs": [],
   "source": [
    "result_df = pd.read_csv(\"../results/flores200_likelihood_cosine_similarity_results.csv\")"
   ]
  },
  {
   "cell_type": "code",
   "execution_count": 3,
   "id": "e216e930",
   "metadata": {},
   "outputs": [
    {
     "name": "stdout",
     "output_type": "stream",
     "text": [
      "<class 'pandas.core.frame.DataFrame'>\n",
      "RangeIndex: 5100 entries, 0 to 5099\n",
      "Data columns (total 8 columns):\n",
      " #   Column             Non-Null Count  Dtype  \n",
      "---  ------             --------------  -----  \n",
      " 0   row_index          5100 non-null   int64  \n",
      " 1   source_lang        5100 non-null   object \n",
      " 2   source_script      5100 non-null   object \n",
      " 3   source_text        5100 non-null   object \n",
      " 4   target_lang        5100 non-null   object \n",
      " 5   target_script      5100 non-null   object \n",
      " 6   target_text        5100 non-null   object \n",
      " 7   cosine_similarity  5100 non-null   float64\n",
      "dtypes: float64(1), int64(1), object(6)\n",
      "memory usage: 318.9+ KB\n"
     ]
    }
   ],
   "source": [
    "result_df.info()"
   ]
  },
  {
   "cell_type": "code",
   "execution_count": 4,
   "id": "556694d2",
   "metadata": {},
   "outputs": [
    {
     "name": "stdout",
     "output_type": "stream",
     "text": [
      "Loaded 5100 rows.\n"
     ]
    },
    {
     "data": {
      "text/html": [
       "<div>\n",
       "<style scoped>\n",
       "    .dataframe tbody tr th:only-of-type {\n",
       "        vertical-align: middle;\n",
       "    }\n",
       "\n",
       "    .dataframe tbody tr th {\n",
       "        vertical-align: top;\n",
       "    }\n",
       "\n",
       "    .dataframe thead th {\n",
       "        text-align: right;\n",
       "    }\n",
       "</style>\n",
       "<table border=\"1\" class=\"dataframe\">\n",
       "  <thead>\n",
       "    <tr style=\"text-align: right;\">\n",
       "      <th></th>\n",
       "      <th>row_index</th>\n",
       "      <th>source_lang</th>\n",
       "      <th>source_script</th>\n",
       "      <th>source_text</th>\n",
       "      <th>target_lang</th>\n",
       "      <th>target_script</th>\n",
       "      <th>target_text</th>\n",
       "      <th>cosine_similarity</th>\n",
       "    </tr>\n",
       "  </thead>\n",
       "  <tbody>\n",
       "    <tr>\n",
       "      <th>0</th>\n",
       "      <td>0</td>\n",
       "      <td>eng</td>\n",
       "      <td>Latn</td>\n",
       "      <td>\"We now have 4-month-old mice that are non-dia...</td>\n",
       "      <td>ace</td>\n",
       "      <td>Arab</td>\n",
       "      <td>\"کامو جينو نا تيكويه عمو ٤ بولن ڽڠ هانا ديابيت...</td>\n",
       "      <td>0.216057</td>\n",
       "    </tr>\n",
       "    <tr>\n",
       "      <th>1</th>\n",
       "      <td>0</td>\n",
       "      <td>eng</td>\n",
       "      <td>Latn</td>\n",
       "      <td>\"We now have 4-month-old mice that are non-dia...</td>\n",
       "      <td>ace</td>\n",
       "      <td>Latn</td>\n",
       "      <td>\"Kamöe jinoe na tikoih umu 4 buleuen nyang han...</td>\n",
       "      <td>0.214697</td>\n",
       "    </tr>\n",
       "    <tr>\n",
       "      <th>2</th>\n",
       "      <td>0</td>\n",
       "      <td>eng</td>\n",
       "      <td>Latn</td>\n",
       "      <td>\"We now have 4-month-old mice that are non-dia...</td>\n",
       "      <td>acm</td>\n",
       "      <td>Arab</td>\n",
       "      <td>أضاف بكلامه وكَال، \"عدنا هسه فيران عمرها 4 أشه...</td>\n",
       "      <td>0.008297</td>\n",
       "    </tr>\n",
       "    <tr>\n",
       "      <th>3</th>\n",
       "      <td>0</td>\n",
       "      <td>eng</td>\n",
       "      <td>Latn</td>\n",
       "      <td>\"We now have 4-month-old mice that are non-dia...</td>\n",
       "      <td>acq</td>\n",
       "      <td>Arab</td>\n",
       "      <td>وزاد قال، \"معنا الآن عكابر يصل عمرها 4 أشهر، و...</td>\n",
       "      <td>0.036192</td>\n",
       "    </tr>\n",
       "    <tr>\n",
       "      <th>4</th>\n",
       "      <td>0</td>\n",
       "      <td>eng</td>\n",
       "      <td>Latn</td>\n",
       "      <td>\"We now have 4-month-old mice that are non-dia...</td>\n",
       "      <td>aeb</td>\n",
       "      <td>Arab</td>\n",
       "      <td>وزاد قال، عندنا فيران عمرها 4 شهور كانت مريضة ...</td>\n",
       "      <td>0.115982</td>\n",
       "    </tr>\n",
       "  </tbody>\n",
       "</table>\n",
       "</div>"
      ],
      "text/plain": [
       "   row_index source_lang source_script  \\\n",
       "0          0         eng          Latn   \n",
       "1          0         eng          Latn   \n",
       "2          0         eng          Latn   \n",
       "3          0         eng          Latn   \n",
       "4          0         eng          Latn   \n",
       "\n",
       "                                         source_text target_lang  \\\n",
       "0  \"We now have 4-month-old mice that are non-dia...         ace   \n",
       "1  \"We now have 4-month-old mice that are non-dia...         ace   \n",
       "2  \"We now have 4-month-old mice that are non-dia...         acm   \n",
       "3  \"We now have 4-month-old mice that are non-dia...         acq   \n",
       "4  \"We now have 4-month-old mice that are non-dia...         aeb   \n",
       "\n",
       "  target_script                                        target_text  \\\n",
       "0          Arab  \"کامو جينو نا تيكويه عمو ٤ بولن ڽڠ هانا ديابيت...   \n",
       "1          Latn  \"Kamöe jinoe na tikoih umu 4 buleuen nyang han...   \n",
       "2          Arab  أضاف بكلامه وكَال، \"عدنا هسه فيران عمرها 4 أشه...   \n",
       "3          Arab  وزاد قال، \"معنا الآن عكابر يصل عمرها 4 أشهر، و...   \n",
       "4          Arab  وزاد قال، عندنا فيران عمرها 4 شهور كانت مريضة ...   \n",
       "\n",
       "   cosine_similarity  \n",
       "0           0.216057  \n",
       "1           0.214697  \n",
       "2           0.008297  \n",
       "3           0.036192  \n",
       "4           0.115982  "
      ]
     },
     "execution_count": 4,
     "metadata": {},
     "output_type": "execute_result"
    }
   ],
   "source": [
    "print(f\"Loaded {len(result_df)} rows.\")\n",
    "result_df.head()"
   ]
  },
  {
   "cell_type": "code",
   "execution_count": 5,
   "id": "2a65821e",
   "metadata": {},
   "outputs": [
    {
     "name": "stdout",
     "output_type": "stream",
     "text": [
      "count    5100.000000\n",
      "mean        0.244421\n",
      "std         0.218609\n",
      "min         0.000006\n",
      "25%         0.069208\n",
      "50%         0.185608\n",
      "75%         0.356206\n",
      "max         1.000000\n",
      "Name: cosine_similarity, dtype: float64\n"
     ]
    }
   ],
   "source": [
    "# Checking distribution of cosine similarity values\n",
    "print(result_df[\"cosine_similarity\"].describe())"
   ]
  },
  {
   "cell_type": "markdown",
   "id": "62581590",
   "metadata": {},
   "source": [
    "This output shows the statistical summary of the cosine similarity values between the English text and the target language. The key points to note:\n",
    "\n",
    "- **Mean (0.244)**: On average, the cosine similarity between English and other languages is **relatively low**. This suggests that, across all languages, the probability distributions of English and target languages differ significantly.\n",
    "- **Standard Deviation (0.218)**: The considerable variability indicates that some languages have high similarity with English, while others diverge substantially.\n",
    "- **Min (0.000006)** and **Max (1.000000)**: The extreme values show that while some languages are very distant from English in terms of token likelihood distributions, others are almost identical.\n",
    "- **25th, 50th, and 75th Percentiles**: The lower percentiles (25% = 0.069, 50% = 0.185, 75% = 0.356) suggest that most cosine similarities are concentrated in the lower range, indicating that the token distributions are, in general, more different than similar.\n",
    "\n",
    "Together, this suggests that **Aya does not consistently think in English first** for most languages, and there is significant diversity in how similar the model’s token generation is to English across languages.\n"
   ]
  },
  {
   "cell_type": "code",
   "execution_count": 6,
   "id": "791ec559",
   "metadata": {},
   "outputs": [
    {
     "data": {
      "image/png": "[encoded data removed]",
      "text/plain": [
       "<Figure size 1000x600 with 1 Axes>"
      ]
     },
     "metadata": {},
     "output_type": "display_data"
    }
   ],
   "source": [
    "# Plotting distribution of cosine similarities\n",
    "plt.figure(figsize=(10, 6))\n",
    "plt.hist(result_df[\"cosine_similarity\"], bins=30, color=\"skyblue\", edgecolor=\"black\")\n",
    "plt.xlabel(\"Cosine Similarity\")\n",
    "plt.ylabel(\"Frequency\")\n",
    "plt.title(\"Distribution of Cosine Similarity Between English and Target Languages\")\n",
    "plt.grid(axis='y')\n",
    "plt.show()"
   ]
  },
  {
   "cell_type": "code",
   "execution_count": 10,
   "id": "9c02aa46",
   "metadata": {},
   "outputs": [
    {
     "name": "stdout",
     "output_type": "stream",
     "text": [
      "target_lang_script\n",
      "eng_Latn    0.803977\n",
      "guj_Gujr    0.352796\n",
      "nld_Latn    0.350462\n",
      "kea_Latn    0.348699\n",
      "fao_Latn    0.346217\n",
      "bjn_Arab    0.340867\n",
      "bul_Cyrl    0.339673\n",
      "deu_Latn    0.332454\n",
      "knc_Latn    0.328460\n",
      "lus_Latn    0.324772\n",
      "Name: cosine_similarity, dtype: float64\n"
     ]
    }
   ],
   "source": [
    "# Grouping by language to find patterns in cosine similarity\n",
    "result_df[\"target_lang_script\"] = result_df[\"target_lang\"] + \"_\" + result_df[\"target_script\"]\n",
    "lang_similarity_stats = result_df.groupby(\"target_lang_script\")[\"cosine_similarity\"].mean().sort_values(ascending=False)\n",
    "\n",
    "# Print the top 10 languages with the highest average cosine similarity to English\n",
    "print(lang_similarity_stats.head(10))"
   ]
  },
  {
   "cell_type": "markdown",
   "id": "cf4e7031",
   "metadata": {},
   "source": [
    "This output lists the average cosine similarity scores for various languages compared to English. Notable points:\n",
    "\n",
    "- **eng (0.804)**: English has the highest cosine similarity to itself, as expected. This confirms that Aya's token generation in English is most aligned with English.\n",
    "- **Other languages (e.g., guj, nld, kea)** show **lower cosine similarities** compared to English. For example, **Gujarati (guj)** has a similarity of **0.352**, and **Dutch (nld)** has a similarity of **0.350**. These scores indicate that while these languages are somewhat close to English in terms of token probability distributions, there is a noticeable difference.\n",
    "- The **lower-ranked languages** (such as **bul**, **deu**, **knc**, and **lus**) have **even smaller cosine similarities** (all below **0.34**), suggesting that their token distributions are more distinct from English.\n",
    "\n",
    "Aya's token generation for English and certain other languages (like **guj**, **nld**, and **kea**) shows noticeable alignment, with these languages showing a **moderate similarity to English**. However, the differences in similarity across languages also indicate that Aya's processing is not entirely English-first but still retains a bias towards English in certain cases."
   ]
  },
  {
   "cell_type": "markdown",
   "id": "16938507",
   "metadata": {},
   "source": [
    "# ✨ **Summary Conclusion:**\n",
    "\n",
    "- Aya exhibits a **strong English-first bias** for some languages, such as English itself (cosine similarity = 0.803), where token distributions are almost identical.\n",
    "- The majority of languages, however, show relatively low cosine similarity to English, especially those with values below 0.4 (e.g., **guj**, **nld**, **kea**).\n",
    "- There is **good but imperfect semantic consistency** across languages, with some languages exhibiting closer alignment with English token distributions than others.\n",
    "- The **average cosine similarity** of **0.244** indicates that, overall, Aya doesn't consistently \"think\" in English first across languages, though there are instances of noticeable English-centric behavior for certain languages."
   ]
  },
  {
   "cell_type": "markdown",
   "id": "96e9f818",
   "metadata": {},
   "source": [
    "### 🎯 Main Question Answer:\n",
    "> **Does Aya \"think\" in English first via cosine similarity?**  \n",
    ">  \n",
    "> ❌ **No, Aya does not always think in English first via cosine similarity.**  \n",
    ">  \n",
    "> The majority of languages have noticeable differences, indicating that Aya processes languages in a more neutral or diversified manner.  \n",
    ">  \n",
    "> **Aya's token generation is not consistently English-first across all languages.** There is significant variation in how different languages compare to English in terms of token likelihood distributions, with many languages showing only **moderate similarity**. This indicates that **Aya's reasoning and token generation are not fully dominated by English**, even though some bias towards English can still be observed."
   ]
  }
 ],
 "metadata": {
  "kernelspec": {
   "display_name": ".venv",
   "language": "python",
   "name": "python3"
  },
  "language_info": {
   "codemirror_mode": {
    "name": "ipython",
    "version": 3
   },
   "file_extension": ".py",
   "mimetype": "text/x-python",
   "name": "python",
   "nbconvert_exporter": "python",
   "pygments_lexer": "ipython3",
   "version": "3.10.0"
  }
 },
 "nbformat": 4,
 "nbformat_minor": 5
}
