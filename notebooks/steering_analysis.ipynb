{
 "cells": [
  {
   "cell_type": "markdown",
   "id": "d13849c5",
   "metadata": {},
   "source": [
    "# Is Aya more steerable in English? Using TyDIQA dataset"
   ]
  },
  {
   "cell_type": "markdown",
   "id": "f1a5c316",
   "metadata": {},
   "source": [
    "Description:\n",
    "* Is Aya more steerable when prompted in English?\n",
    "* Method: Apply steering vectors in multiple languages and analyze response shifts.\n",
    "* Evaluation: Sentiment change, token difference.\n",
    "* Input: Prompts with steering applied in different languages.\n",
    "* Output: Degree of change in sentiment/tone based on steering language.\n",
    "* Expected Insight: If English steering is more effective, Aya might have stronger alignment with English control signals."
   ]
  },
  {
   "cell_type": "markdown",
   "id": "62590890",
   "metadata": {},
   "source": [
    "This notebook `.ipynb` aims to do analysis on the `results/tydiqa_steering_results` result from the `experiments/steering_experiment` experiment."
   ]
  },
  {
   "cell_type": "code",
   "execution_count": 10,
   "id": "e7515c7f",
   "metadata": {},
   "outputs": [],
   "source": [
    "import pandas as pd\n",
    "import matplotlib.pyplot as plt"
   ]
  },
  {
   "cell_type": "code",
   "execution_count": 3,
   "id": "7ed9e509",
   "metadata": {},
   "outputs": [],
   "source": [
    "result_df = pd.read_csv(\"../results/tydiqa_steering_results.csv\")"
   ]
  },
  {
   "cell_type": "code",
   "execution_count": 4,
   "id": "45d701af",
   "metadata": {},
   "outputs": [
    {
     "name": "stdout",
     "output_type": "stream",
     "text": [
      "<class 'pandas.core.frame.DataFrame'>\n",
      "RangeIndex: 5076 entries, 0 to 5075\n",
      "Data columns (total 11 columns):\n",
      " #   Column                   Non-Null Count  Dtype \n",
      "---  ------                   --------------  ----- \n",
      " 0   language                 5076 non-null   object\n",
      " 1   question                 5076 non-null   object\n",
      " 2   context                  5076 non-null   object\n",
      " 3   neutral_prompt           5076 non-null   object\n",
      " 4   steered_prompt           5076 non-null   object\n",
      " 5   neutral_response         5076 non-null   object\n",
      " 6   steered_response         5076 non-null   object\n",
      " 7   neutral_sentiment_level  5076 non-null   int64 \n",
      " 8   steered_sentiment_level  5076 non-null   int64 \n",
      " 9   neutral_sentiment_name   5076 non-null   object\n",
      " 10  steered_sentiment_name   5076 non-null   object\n",
      "dtypes: int64(2), object(9)\n",
      "memory usage: 436.3+ KB\n"
     ]
    }
   ],
   "source": [
    "result_df.info()"
   ]
  },
  {
   "cell_type": "code",
   "execution_count": 5,
   "id": "6fa7c1d7",
   "metadata": {},
   "outputs": [
    {
     "name": "stdout",
     "output_type": "stream",
     "text": [
      "Loaded 5076 rows.\n"
     ]
    },
    {
     "data": {
      "text/html": [
       "<div>\n",
       "<style scoped>\n",
       "    .dataframe tbody tr th:only-of-type {\n",
       "        vertical-align: middle;\n",
       "    }\n",
       "\n",
       "    .dataframe tbody tr th {\n",
       "        vertical-align: top;\n",
       "    }\n",
       "\n",
       "    .dataframe thead th {\n",
       "        text-align: right;\n",
       "    }\n",
       "</style>\n",
       "<table border=\"1\" class=\"dataframe\">\n",
       "  <thead>\n",
       "    <tr style=\"text-align: right;\">\n",
       "      <th></th>\n",
       "      <th>language</th>\n",
       "      <th>question</th>\n",
       "      <th>context</th>\n",
       "      <th>neutral_prompt</th>\n",
       "      <th>steered_prompt</th>\n",
       "      <th>neutral_response</th>\n",
       "      <th>steered_response</th>\n",
       "      <th>neutral_sentiment_level</th>\n",
       "      <th>steered_sentiment_level</th>\n",
       "      <th>neutral_sentiment_name</th>\n",
       "      <th>steered_sentiment_name</th>\n",
       "    </tr>\n",
       "  </thead>\n",
       "  <tbody>\n",
       "    <tr>\n",
       "      <th>0</th>\n",
       "      <td>english</td>\n",
       "      <td>What is a way to increase your wound healing s...</td>\n",
       "      <td>Wound care encourages and speeds wound healing...</td>\n",
       "      <td>Answer the question based on the context.\\nCon...</td>\n",
       "      <td>Answer the question in a cheerful and positive...</td>\n",
       "      <td>cleaning and protection from reinjury or infec...</td>\n",
       "      <td>Oh, absolutely! There are several fantastic wa...</td>\n",
       "      <td>4</td>\n",
       "      <td>4</td>\n",
       "      <td>Very Positive</td>\n",
       "      <td>Very Positive</td>\n",
       "    </tr>\n",
       "    <tr>\n",
       "      <th>1</th>\n",
       "      <td>english</td>\n",
       "      <td>Who founded the Burntisland Shipbuilding Company?</td>\n",
       "      <td>Brothers Amos and Wilfrid Ayre founded Burntis...</td>\n",
       "      <td>Answer the question based on the context.\\nCon...</td>\n",
       "      <td>Answer the question in a cheerful and positive...</td>\n",
       "      <td>Brothers Amos and Wilfrid Ayre</td>\n",
       "      <td>Oh, what a fantastic question! The Burntisland...</td>\n",
       "      <td>4</td>\n",
       "      <td>4</td>\n",
       "      <td>Very Positive</td>\n",
       "      <td>Very Positive</td>\n",
       "    </tr>\n",
       "    <tr>\n",
       "      <th>2</th>\n",
       "      <td>english</td>\n",
       "      <td>What is the surface area of the human cortex?</td>\n",
       "      <td>The cerebral cortex is folded in a way that al...</td>\n",
       "      <td>Answer the question based on the context.\\nCon...</td>\n",
       "      <td>Answer the question in a cheerful and positive...</td>\n",
       "      <td>1.3 square feet (0.12m2)</td>\n",
       "      <td>Wow, the human cerebral cortex is incredibly e...</td>\n",
       "      <td>4</td>\n",
       "      <td>4</td>\n",
       "      <td>Very Positive</td>\n",
       "      <td>Very Positive</td>\n",
       "    </tr>\n",
       "    <tr>\n",
       "      <th>3</th>\n",
       "      <td>english</td>\n",
       "      <td>How many units has Agatha Christie sold?</td>\n",
       "      <td>Guinness World Records lists Christie as the b...</td>\n",
       "      <td>Answer the question based on the context.\\nCon...</td>\n",
       "      <td>Answer the question in a cheerful and positive...</td>\n",
       "      <td>roughly 2 billion copies</td>\n",
       "      <td>Wow, Agatha Christie is absolutely phenomenal!...</td>\n",
       "      <td>0</td>\n",
       "      <td>4</td>\n",
       "      <td>Very Negative</td>\n",
       "      <td>Very Positive</td>\n",
       "    </tr>\n",
       "    <tr>\n",
       "      <th>4</th>\n",
       "      <td>english</td>\n",
       "      <td>When was Nájera established?</td>\n",
       "      <td>The town was conquered by Ordoño II of Leon fo...</td>\n",
       "      <td>Answer the question based on the context.\\nCon...</td>\n",
       "      <td>Answer the question in a cheerful and positive...</td>\n",
       "      <td>Based on the context provided, it is not expli...</td>\n",
       "      <td>Oh, what a fantastic question! While I don't h...</td>\n",
       "      <td>2</td>\n",
       "      <td>4</td>\n",
       "      <td>Neutral</td>\n",
       "      <td>Very Positive</td>\n",
       "    </tr>\n",
       "  </tbody>\n",
       "</table>\n",
       "</div>"
      ],
      "text/plain": [
       "  language                                           question  \\\n",
       "0  english  What is a way to increase your wound healing s...   \n",
       "1  english  Who founded the Burntisland Shipbuilding Company?   \n",
       "2  english      What is the surface area of the human cortex?   \n",
       "3  english           How many units has Agatha Christie sold?   \n",
       "4  english                       When was Nájera established?   \n",
       "\n",
       "                                             context  \\\n",
       "0  Wound care encourages and speeds wound healing...   \n",
       "1  Brothers Amos and Wilfrid Ayre founded Burntis...   \n",
       "2  The cerebral cortex is folded in a way that al...   \n",
       "3  Guinness World Records lists Christie as the b...   \n",
       "4  The town was conquered by Ordoño II of Leon fo...   \n",
       "\n",
       "                                      neutral_prompt  \\\n",
       "0  Answer the question based on the context.\\nCon...   \n",
       "1  Answer the question based on the context.\\nCon...   \n",
       "2  Answer the question based on the context.\\nCon...   \n",
       "3  Answer the question based on the context.\\nCon...   \n",
       "4  Answer the question based on the context.\\nCon...   \n",
       "\n",
       "                                      steered_prompt  \\\n",
       "0  Answer the question in a cheerful and positive...   \n",
       "1  Answer the question in a cheerful and positive...   \n",
       "2  Answer the question in a cheerful and positive...   \n",
       "3  Answer the question in a cheerful and positive...   \n",
       "4  Answer the question in a cheerful and positive...   \n",
       "\n",
       "                                    neutral_response  \\\n",
       "0  cleaning and protection from reinjury or infec...   \n",
       "1                     Brothers Amos and Wilfrid Ayre   \n",
       "2                           1.3 square feet (0.12m2)   \n",
       "3                           roughly 2 billion copies   \n",
       "4  Based on the context provided, it is not expli...   \n",
       "\n",
       "                                    steered_response  neutral_sentiment_level  \\\n",
       "0  Oh, absolutely! There are several fantastic wa...                        4   \n",
       "1  Oh, what a fantastic question! The Burntisland...                        4   \n",
       "2  Wow, the human cerebral cortex is incredibly e...                        4   \n",
       "3  Wow, Agatha Christie is absolutely phenomenal!...                        0   \n",
       "4  Oh, what a fantastic question! While I don't h...                        2   \n",
       "\n",
       "   steered_sentiment_level neutral_sentiment_name steered_sentiment_name  \n",
       "0                        4          Very Positive          Very Positive  \n",
       "1                        4          Very Positive          Very Positive  \n",
       "2                        4          Very Positive          Very Positive  \n",
       "3                        4          Very Negative          Very Positive  \n",
       "4                        4                Neutral          Very Positive  "
      ]
     },
     "execution_count": 5,
     "metadata": {},
     "output_type": "execute_result"
    }
   ],
   "source": [
    "print(f\"Loaded {len(result_df)} rows.\")\n",
    "result_df.head()"
   ]
  },
  {
   "cell_type": "code",
   "execution_count": 13,
   "id": "1ca88d91",
   "metadata": {},
   "outputs": [
    {
     "name": "stdout",
     "output_type": "stream",
     "text": [
      "Neutral Sentiment Distribution:\n",
      "neutral_sentiment_name\n",
      "Positive         1817\n",
      "Neutral          1385\n",
      "Very Negative     867\n",
      "Very Positive     811\n",
      "Negative          196\n",
      "Name: count, dtype: int64\n"
     ]
    }
   ],
   "source": [
    "# Compare sentiment levels between neutral and steered responses\n",
    "neutral_sentiment_counts = result_df[\"neutral_sentiment_name\"].value_counts()\n",
    "steered_sentiment_counts = result_df[\"steered_sentiment_name\"].value_counts()\n",
    "\n",
    "print(\"Neutral Sentiment Distribution:\")\n",
    "print(neutral_sentiment_counts)"
   ]
  },
  {
   "cell_type": "markdown",
   "id": "05e0e562",
   "metadata": {},
   "source": [
    "The sentiment distribution in the **neutral** condition suggests that Aya's responses are generally balanced, with the largest group being **Positive (1817)** and **Neutral (1385)**. This indicates that when Aya responds without emotional steering, the majority of outputs are either positive or neutral, which is expected from a general-purpose model. The presence of **Very Negative (867)** and **Very Positive (811)** sentiments suggests that Aya occasionally generates extreme responses, though these are much less frequent. Additionally, the relatively low frequency of **Negative (196)** responses indicates that Aya is not inclined to provide negative answers in neutral conditions."
   ]
  },
  {
   "cell_type": "code",
   "execution_count": 14,
   "id": "5eeac5fa",
   "metadata": {},
   "outputs": [
    {
     "name": "stdout",
     "output_type": "stream",
     "text": [
      "\n",
      "Steered Sentiment Distribution:\n",
      "steered_sentiment_name\n",
      "Very Positive    2803\n",
      "Positive          848\n",
      "Neutral           644\n",
      "Very Negative     621\n",
      "Negative          160\n",
      "Name: count, dtype: int64\n"
     ]
    }
   ],
   "source": [
    "print(\"\\nSteered Sentiment Distribution:\")\n",
    "print(steered_sentiment_counts)"
   ]
  },
  {
   "cell_type": "markdown",
   "id": "32234b37",
   "metadata": {},
   "source": [
    "In the **steered** condition, where prompts are explicitly designed to encourage positive responses, the sentiment distribution shows a clear shift towards more positive sentiments. **Very Positive (2803)** is the dominant sentiment, confirming that the steering mechanism is quite effective at pushing Aya's output toward a cheerful and positive tone. While **Positive (848)** and **Neutral (644)** responses still appear, their frequency is much lower compared to the **Very Positive** sentiment. Additionally, there are still some **Very Negative (621)** and **Negative (160)** responses, but they occur less frequently, indicating that steering does reduce but does not entirely eliminate negative sentiment.\n"
   ]
  },
  {
   "cell_type": "code",
   "execution_count": 15,
   "id": "f79929d3",
   "metadata": {},
   "outputs": [
    {
     "name": "stdout",
     "output_type": "stream",
     "text": [
      "Average Sentiment Change for English: 1.568\n",
      "Average Sentiment Change for Other Languages:\n",
      "language\n",
      "arabic        1.190011\n",
      "bengali      -0.061947\n",
      "finnish      -0.007673\n",
      "indonesian    1.162832\n",
      "korean        1.431159\n",
      "russian       1.115764\n",
      "swahili      -0.032064\n",
      "telugu       -0.257485\n",
      "Name: sentiment_change, dtype: float64\n"
     ]
    }
   ],
   "source": [
    "# Create a new column for sentiment change\n",
    "result_df[\"sentiment_change\"] = result_df[\"steered_sentiment_level\"] - result_df[\"neutral_sentiment_level\"]\n",
    "\n",
    "# Calculate the average sentiment change for each language\n",
    "sentiment_change_by_language = result_df.groupby(\"language\")[\"sentiment_change\"].mean()\n",
    "\n",
    "# Compare sentiment change in English with other languages\n",
    "english_sentiment_change = sentiment_change_by_language[\"english\"]\n",
    "other_languages_sentiment_change = sentiment_change_by_language.drop(\"english\")\n",
    "\n",
    "# Print the results\n",
    "print(f\"Average Sentiment Change for English: {english_sentiment_change:.3f}\")\n",
    "print(f\"Average Sentiment Change for Other Languages:\\n{other_languages_sentiment_change}\")"
   ]
  },
  {
   "cell_type": "markdown",
   "id": "41a0008a",
   "metadata": {},
   "source": [
    "The **average sentiment change** by language reveals some interesting patterns in how steering impacts responses across languages.  \n",
    "- **English (1.568)** shows the highest average sentiment change, indicating that the steering prompts are most effective in modifying Aya’s tone when prompted in English.\n",
    "- **Korean (1.431)** and **Arabic (1.190)** also show significant sentiment shifts, suggesting that steering is fairly effective in these languages as well.\n",
    "- On the other hand, languages like **Telugu (-0.257)**, **Bengali (-0.061)**, and **Swahili (-0.032)** show minimal or even negative sentiment change, implying that steering is less effective in these languages, or that Aya's responses in these languages are more resistant to emotional steering.\n"
   ]
  },
  {
   "cell_type": "code",
   "execution_count": 11,
   "id": "cfc5f16e",
   "metadata": {},
   "outputs": [
    {
     "data": {
      "image/png": "[encoded data removed]",
      "text/plain": [
       "<Figure size 1000x600 with 1 Axes>"
      ]
     },
     "metadata": {},
     "output_type": "display_data"
    }
   ],
   "source": [
    "# Plot sentiment change for all languages\n",
    "plt.figure(figsize=(10, 6))\n",
    "sentiment_change_by_language.plot(kind=\"bar\", color=\"skyblue\")\n",
    "plt.axhline(english_sentiment_change, color=\"red\", linestyle=\"--\", label=\"English Sentiment Change\")\n",
    "plt.title(\"Average Sentiment Change by Language\")\n",
    "plt.xlabel(\"Language\")\n",
    "plt.ylabel(\"Average Sentiment Change\")\n",
    "plt.legend()\n",
    "plt.tight_layout()\n",
    "\n",
    "# Show the plot\n",
    "plt.show()"
   ]
  },
  {
   "cell_type": "code",
   "execution_count": 12,
   "id": "beee3652",
   "metadata": {},
   "outputs": [
    {
     "name": "stdout",
     "output_type": "stream",
     "text": [
      "Average Sentiment Change for English: 1.5681818181818181\n",
      "Average Sentiment Change for Other Languages: 0.5675746235169582\n",
      "Top 3 Languages with the Most Sentiment Change: language\n",
      "english    1.568182\n",
      "korean     1.431159\n",
      "arabic     1.190011\n",
      "Name: sentiment_change, dtype: float64\n",
      "Top 3 Languages with the Least Sentiment Change: language\n",
      "telugu    -0.257485\n",
      "bengali   -0.061947\n",
      "swahili   -0.032064\n",
      "Name: sentiment_change, dtype: float64\n"
     ]
    }
   ],
   "source": [
    "# Create summary of the analysis\n",
    "summary = {\n",
    "    \"Average Sentiment Change for English\": english_sentiment_change,\n",
    "    \"Average Sentiment Change for Other Languages\": other_languages_sentiment_change.mean(),\n",
    "    \"Top 3 Languages with the Most Sentiment Change\": sentiment_change_by_language.nlargest(3),\n",
    "    \"Top 3 Languages with the Least Sentiment Change\": sentiment_change_by_language.nsmallest(3),\n",
    "}\n",
    "\n",
    "# Print the summary\n",
    "for key, value in summary.items():\n",
    "    print(f\"{key}: {value}\")"
   ]
  },
  {
   "cell_type": "markdown",
   "id": "bf5382e8",
   "metadata": {},
   "source": [
    "There is a significant difference between the **average sentiment change** for English (1.568) and the rest of the languages (0.568). This suggests that **steering is more effective** in English compared to other languages. The fact that the sentiment change for English is nearly three times higher than for other languages indicates that **Aya’s responses in English are more steerable** when prompted to adjust tone or sentiment.\n"
   ]
  },
  {
   "cell_type": "markdown",
   "id": "34837eab",
   "metadata": {},
   "source": [
    "The top three languages with the **most sentiment change**—**English (1.568)**, **Korean (1.431)**, and **Arabic (1.190)**—further confirm that steering works well in certain languages. **English** stands out as the most steerable language, with a **strong shift towards positivity**, followed by **Korean** and **Arabic**, which also show notable changes. This suggests that these languages are particularly receptive to the steering mechanism, likely due to the model's better understanding of cultural contexts or available training data.\n"
   ]
  },
  {
   "cell_type": "markdown",
   "id": "ad139d6b",
   "metadata": {},
   "source": [
    "In contrast, **Telugu (-0.257)**, **Bengali (-0.062)**, and **Swahili (-0.032)** exhibit the least sentiment change, with some even showing a **negative sentiment shift**. This suggests that in these languages, **steering prompts** have a minimal or even counterproductive effect, possibly due to language-specific challenges in sentiment modulation. These results may point to **Aya’s model not being as fine-tuned for these languages**, or to inherent limitations in the steering mechanism when applied to these particular linguistic and cultural contexts.\n"
   ]
  },
  {
   "cell_type": "markdown",
   "id": "92c03cee",
   "metadata": {},
   "source": [
    "# ✨ Summary Conclusion\n",
    "\n",
    "- Aya shows **strong steerability in English**, with a significant shift in sentiment when steering prompts are applied.\n",
    "- **Steering effectiveness varies across languages**, with English showing the **largest sentiment change**, while other languages like **Telugu**, **Bengali**, and **Swahili** show minimal or even negative sentiment shifts.\n",
    "- The **language of the prompt** plays a significant role in Aya's response, with **English steering signals** producing the most noticeable impact.\n",
    "- The average **sentiment change across languages** is **higher in English (1.568)** compared to **other languages (0.568)**, confirming that **Aya is more steerable in English**.\n",
    "- Languages like **Korean** and **Arabic** show moderate steering effectiveness, while languages like **Telugu**, **Bengali**, and **Swahili** exhibit poor or negative results with steering.\n",
    "\n",
    "### 🎯 Main Question Answer:\n",
    "> **Is Aya more steerable in English?**  \n",
    ">  \n",
    "> ✅ **Yes, Aya is more steerable in English.**  \n",
    ">  \n",
    "> The sentiment shift in response to steering prompts is notably stronger in English, with an average sentiment change of **1.568**, compared to **0.568** for other languages.  \n",
    ">  \n",
    "> While **Korean** and **Arabic** show moderate steering effectiveness, **English** stands out as the most responsive language, indicating that Aya is **more aligned with English steering signals**."
   ]
  }
 ],
 "metadata": {
  "kernelspec": {
   "display_name": ".venv",
   "language": "python",
   "name": "python3"
  },
  "language_info": {
   "codemirror_mode": {
    "name": "ipython",
    "version": 3
   },
   "file_extension": ".py",
   "mimetype": "text/x-python",
   "name": "python",
   "nbconvert_exporter": "python",
   "pygments_lexer": "ipython3",
   "version": "3.10.0"
  }
 },
 "nbformat": 4,
 "nbformat_minor": 5
}
